{
 "cells": [
  {
   "cell_type": "markdown",
   "id": "5c785dca",
   "metadata": {
    "papermill": {
     "duration": 0.015672,
     "end_time": "2024-08-07T10:34:59.967958",
     "exception": false,
     "start_time": "2024-08-07T10:34:59.952286",
     "status": "completed"
    },
    "tags": []
   },
   "source": [
    "## Derivate Intuition"
   ]
  },
  {
   "cell_type": "code",
   "execution_count": 1,
   "id": "e2c09d02",
   "metadata": {
    "_cell_guid": "b1076dfc-b9ad-4769-8c92-a6c4dae69d19",
    "_uuid": "8f2839f25d086af736a60e9eeb907d3b93b6e0e5",
    "execution": {
     "iopub.execute_input": "2024-08-07T10:34:59.999627Z",
     "iopub.status.busy": "2024-08-07T10:34:59.999195Z",
     "iopub.status.idle": "2024-08-07T10:35:00.015128Z",
     "shell.execute_reply": "2024-08-07T10:35:00.014100Z"
    },
    "papermill": {
     "duration": 0.035349,
     "end_time": "2024-08-07T10:35:00.017751",
     "exception": false,
     "start_time": "2024-08-07T10:34:59.982402",
     "status": "completed"
    },
    "tags": []
   },
   "outputs": [],
   "source": [
    "import math\n",
    "import numpy as np\n",
    "import matplotlib.pyplot as plt\n",
    "%matplotlib inline"
   ]
  },
  {
   "cell_type": "code",
   "execution_count": 2,
   "id": "92537df7",
   "metadata": {
    "execution": {
     "iopub.execute_input": "2024-08-07T10:35:00.048231Z",
     "iopub.status.busy": "2024-08-07T10:35:00.047322Z",
     "iopub.status.idle": "2024-08-07T10:35:00.052858Z",
     "shell.execute_reply": "2024-08-07T10:35:00.051637Z"
    },
    "papermill": {
     "duration": 0.023684,
     "end_time": "2024-08-07T10:35:00.055488",
     "exception": false,
     "start_time": "2024-08-07T10:35:00.031804",
     "status": "completed"
    },
    "tags": []
   },
   "outputs": [],
   "source": [
    "def f(x):\n",
    "    return 3*x**2 - 4*x + 5"
   ]
  },
  {
   "cell_type": "code",
   "execution_count": 3,
   "id": "c8f755ea",
   "metadata": {
    "execution": {
     "iopub.execute_input": "2024-08-07T10:35:00.088432Z",
     "iopub.status.busy": "2024-08-07T10:35:00.087528Z",
     "iopub.status.idle": "2024-08-07T10:35:00.099327Z",
     "shell.execute_reply": "2024-08-07T10:35:00.097799Z"
    },
    "papermill": {
     "duration": 0.031682,
     "end_time": "2024-08-07T10:35:00.102534",
     "exception": false,
     "start_time": "2024-08-07T10:35:00.070852",
     "status": "completed"
    },
    "tags": []
   },
   "outputs": [
    {
     "data": {
      "text/plain": [
       "89"
      ]
     },
     "execution_count": 3,
     "metadata": {},
     "output_type": "execute_result"
    }
   ],
   "source": [
    "f(6)"
   ]
  },
  {
   "cell_type": "code",
   "execution_count": 4,
   "id": "f8666078",
   "metadata": {
    "execution": {
     "iopub.execute_input": "2024-08-07T10:35:00.136014Z",
     "iopub.status.busy": "2024-08-07T10:35:00.135594Z",
     "iopub.status.idle": "2024-08-07T10:35:00.500945Z",
     "shell.execute_reply": "2024-08-07T10:35:00.499564Z"
    },
    "papermill": {
     "duration": 0.383847,
     "end_time": "2024-08-07T10:35:00.504095",
     "exception": false,
     "start_time": "2024-08-07T10:35:00.120248",
     "status": "completed"
    },
    "tags": []
   },
   "outputs": [
    {
     "data": {
      "text/plain": [
       "[<matplotlib.lines.Line2D at 0x7b1b63b97520>]"
      ]
     },
     "execution_count": 4,
     "metadata": {},
     "output_type": "execute_result"
    },
    {
     "data": {
      "image/png": "[encoded data removed]",
      "text/plain": [
       "<Figure size 640x480 with 1 Axes>"
      ]
     },
     "metadata": {},
     "output_type": "display_data"
    }
   ],
   "source": [
    "xs = np.arange(-5, 5, 0.25)\n",
    "ys = f(xs)\n",
    "plt.plot(xs, ys)"
   ]
  },
  {
   "cell_type": "code",
   "execution_count": 5,
   "id": "8a788ff6",
   "metadata": {
    "execution": {
     "iopub.execute_input": "2024-08-07T10:35:00.538229Z",
     "iopub.status.busy": "2024-08-07T10:35:00.537239Z",
     "iopub.status.idle": "2024-08-07T10:35:00.546843Z",
     "shell.execute_reply": "2024-08-07T10:35:00.544981Z"
    },
    "papermill": {
     "duration": 0.03149,
     "end_time": "2024-08-07T10:35:00.550337",
     "exception": false,
     "start_time": "2024-08-07T10:35:00.518847",
     "status": "completed"
    },
    "tags": []
   },
   "outputs": [
    {
     "data": {
      "text/plain": [
       "14.00300000000243"
      ]
     },
     "execution_count": 5,
     "metadata": {},
     "output_type": "execute_result"
    }
   ],
   "source": [
    "h = 0.001\n",
    "x = 3.0 # at x = 2/3 the derivative is zero\n",
    "\n",
    "(f(x + h) - f(x)) / h"
   ]
  },
  {
   "cell_type": "code",
   "execution_count": 6,
   "id": "6a448457",
   "metadata": {
    "execution": {
     "iopub.execute_input": "2024-08-07T10:35:00.584337Z",
     "iopub.status.busy": "2024-08-07T10:35:00.583919Z",
     "iopub.status.idle": "2024-08-07T10:35:00.590996Z",
     "shell.execute_reply": "2024-08-07T10:35:00.589654Z"
    },
    "papermill": {
     "duration": 0.028455,
     "end_time": "2024-08-07T10:35:00.594064",
     "exception": false,
     "start_time": "2024-08-07T10:35:00.565609",
     "status": "completed"
    },
    "tags": []
   },
   "outputs": [
    {
     "name": "stdout",
     "output_type": "stream",
     "text": [
      "4.0\n"
     ]
    }
   ],
   "source": [
    "a = 2.0\n",
    "b = -3.0 \n",
    "c = 10.0 \n",
    "d = a * b + c\n",
    "print(d)"
   ]
  },
  {
   "cell_type": "code",
   "execution_count": 7,
   "id": "026c6252",
   "metadata": {
    "execution": {
     "iopub.execute_input": "2024-08-07T10:35:00.630496Z",
     "iopub.status.busy": "2024-08-07T10:35:00.630082Z",
     "iopub.status.idle": "2024-08-07T10:35:00.637296Z",
     "shell.execute_reply": "2024-08-07T10:35:00.635999Z"
    },
    "papermill": {
     "duration": 0.029117,
     "end_time": "2024-08-07T10:35:00.641059",
     "exception": false,
     "start_time": "2024-08-07T10:35:00.611942",
     "status": "completed"
    },
    "tags": []
   },
   "outputs": [
    {
     "name": "stdout",
     "output_type": "stream",
     "text": [
      "d1: 4.0\n",
      "d2: 3.999699999999999\n",
      "slope: -3.000000000010772\n"
     ]
    }
   ],
   "source": [
    "h = 0.0001\n",
    "\n",
    "a = 2.0 \n",
    "b = -3.0 \n",
    "c = 10.0 \n",
    "\n",
    "d1 = a * b + c\n",
    "a += h\n",
    "d2 = a * b + c\n",
    "\n",
    "print(f'd1: {d1}')\n",
    "print(f'd2: {d2}')\n",
    "print(f'slope: {(d2 - d1) / h}')"
   ]
  },
  {
   "cell_type": "markdown",
   "id": "e12ca354",
   "metadata": {
    "papermill": {
     "duration": 0.016933,
     "end_time": "2024-08-07T10:35:00.674380",
     "exception": false,
     "start_time": "2024-08-07T10:35:00.657447",
     "status": "completed"
    },
    "tags": []
   },
   "source": [
    "## Building a Value wrapper class"
   ]
  },
  {
   "cell_type": "code",
   "execution_count": 8,
   "id": "5bb9761c",
   "metadata": {
    "execution": {
     "iopub.execute_input": "2024-08-07T10:35:00.707294Z",
     "iopub.status.busy": "2024-08-07T10:35:00.706818Z",
     "iopub.status.idle": "2024-08-07T10:35:00.733663Z",
     "shell.execute_reply": "2024-08-07T10:35:00.732106Z"
    },
    "papermill": {
     "duration": 0.047239,
     "end_time": "2024-08-07T10:35:00.737620",
     "exception": false,
     "start_time": "2024-08-07T10:35:00.690381",
     "status": "completed"
    },
    "tags": []
   },
   "outputs": [],
   "source": [
    "class Value:\n",
    "  \n",
    "  def __init__(self, data, _children=(), _op='', label=''):\n",
    "    self.data = data\n",
    "    self.grad = 0.0\n",
    "    self._backward = lambda: None\n",
    "    self._prev = set(_children)\n",
    "    self._op = _op\n",
    "    self.label = label\n",
    "\n",
    "  def __repr__(self):\n",
    "    return f\"Value(data={self.data})\"\n",
    "  \n",
    "  def __add__(self, other):\n",
    "    other = other if isinstance(other, Value) else Value(other)\n",
    "    out = Value(self.data + other.data, (self, other), '+')\n",
    "    \n",
    "    def _backward():\n",
    "      self.grad += 1.0 * out.grad\n",
    "      other.grad += 1.0 * out.grad\n",
    "    out._backward = _backward\n",
    "    \n",
    "    return out\n",
    "\n",
    "  def __mul__(self, other):\n",
    "    other = other if isinstance(other, Value) else Value(other)\n",
    "    out = Value(self.data * other.data, (self, other), '*')\n",
    "    \n",
    "    def _backward():\n",
    "      self.grad += other.data * out.grad\n",
    "      other.grad += self.data * out.grad\n",
    "    out._backward = _backward\n",
    "      \n",
    "    return out\n",
    "  \n",
    "  def __pow__(self, other):\n",
    "    assert isinstance(other, (int, float)), \"only supporting int/float powers for now\"\n",
    "    out = Value(self.data**other, (self,), f'**{other}')\n",
    "\n",
    "    def _backward():\n",
    "        self.grad += other * (self.data ** (other - 1)) * out.grad\n",
    "    out._backward = _backward\n",
    "\n",
    "    return out\n",
    "  \n",
    "  def __rmul__(self, other): # other * self\n",
    "    return self * other\n",
    "\n",
    "  def __truediv__(self, other): # self / other\n",
    "    return self * other**-1\n",
    "\n",
    "  def __neg__(self): # -self\n",
    "    return self * -1\n",
    "\n",
    "  def __sub__(self, other): # self - other\n",
    "    return self + (-other)\n",
    "\n",
    "  def __radd__(self, other): # other + self\n",
    "    return self + other\n",
    "\n",
    "  def tanh(self):\n",
    "    x = self.data\n",
    "    t = (math.exp(2*x) - 1)/(math.exp(2*x) + 1)\n",
    "    out = Value(t, (self, ), 'tanh')\n",
    "    \n",
    "    def _backward():\n",
    "      self.grad += (1 - t**2) * out.grad\n",
    "    out._backward = _backward\n",
    "    \n",
    "    return out\n",
    "  \n",
    "  def exp(self):\n",
    "    x = self.data\n",
    "    out = Value(math.exp(x), (self, ), 'exp')\n",
    "    \n",
    "    def _backward():\n",
    "      self.grad += out.data * out.grad\n",
    "    out._backward = _backward\n",
    "    \n",
    "    return out\n",
    "  \n",
    "  \n",
    "  def backward(self):\n",
    "    \n",
    "    topo = []\n",
    "    visited = set()\n",
    "    def build_topo(v):\n",
    "      if v not in visited:\n",
    "        visited.add(v)\n",
    "        for child in v._prev:\n",
    "          build_topo(child)\n",
    "        topo.append(v)\n",
    "    build_topo(self)\n",
    "    \n",
    "    self.grad = 1.0\n",
    "    for node in reversed(topo):\n",
    "      node._backward()"
   ]
  },
  {
   "cell_type": "code",
   "execution_count": 9,
   "id": "dd4084a7",
   "metadata": {
    "execution": {
     "iopub.execute_input": "2024-08-07T10:35:00.773075Z",
     "iopub.status.busy": "2024-08-07T10:35:00.772652Z",
     "iopub.status.idle": "2024-08-07T10:35:00.782663Z",
     "shell.execute_reply": "2024-08-07T10:35:00.781405Z"
    },
    "papermill": {
     "duration": 0.030882,
     "end_time": "2024-08-07T10:35:00.785345",
     "exception": false,
     "start_time": "2024-08-07T10:35:00.754463",
     "status": "completed"
    },
    "tags": []
   },
   "outputs": [
    {
     "data": {
      "text/plain": [
       "Value(data=-8.0)"
      ]
     },
     "execution_count": 9,
     "metadata": {},
     "output_type": "execute_result"
    }
   ],
   "source": [
    "a = Value(2.0, label='a')\n",
    "b = Value(-3.0, label='b')\n",
    "c = Value(10.0, label='c')\n",
    "e = a * b; e.label = 'e'\n",
    "d = e + c; d.label = 'd'\n",
    "f = Value(-2.0, label='f')\n",
    "L = d * f; L.label = 'L'\n",
    "L"
   ]
  },
  {
   "cell_type": "code",
   "execution_count": 10,
   "id": "af876e33",
   "metadata": {
    "execution": {
     "iopub.execute_input": "2024-08-07T10:35:00.817885Z",
     "iopub.status.busy": "2024-08-07T10:35:00.817430Z",
     "iopub.status.idle": "2024-08-07T10:35:00.825039Z",
     "shell.execute_reply": "2024-08-07T10:35:00.823917Z"
    },
    "papermill": {
     "duration": 0.027338,
     "end_time": "2024-08-07T10:35:00.827625",
     "exception": false,
     "start_time": "2024-08-07T10:35:00.800287",
     "status": "completed"
    },
    "tags": []
   },
   "outputs": [
    {
     "data": {
      "text/plain": [
       "({Value(data=-6.0), Value(data=10.0)}, '+')"
      ]
     },
     "execution_count": 10,
     "metadata": {},
     "output_type": "execute_result"
    }
   ],
   "source": [
    "d._prev, d._op"
   ]
  },
  {
   "cell_type": "code",
   "execution_count": 11,
   "id": "cd71a153",
   "metadata": {
    "execution": {
     "iopub.execute_input": "2024-08-07T10:35:00.863449Z",
     "iopub.status.busy": "2024-08-07T10:35:00.862972Z",
     "iopub.status.idle": "2024-08-07T10:35:00.930241Z",
     "shell.execute_reply": "2024-08-07T10:35:00.928990Z"
    },
    "papermill": {
     "duration": 0.090199,
     "end_time": "2024-08-07T10:35:00.933332",
     "exception": false,
     "start_time": "2024-08-07T10:35:00.843133",
     "status": "completed"
    },
    "tags": []
   },
   "outputs": [],
   "source": [
    "from graphviz import Digraph\n",
    "\n",
    "def trace(root):\n",
    "    nodes, edges = set(), set()\n",
    "    \n",
    "    def build(v):\n",
    "        if v not in nodes:\n",
    "            nodes.add(v)\n",
    "            for child in v._prev:\n",
    "                edges.add((child, v))\n",
    "                build(child)\n",
    "    build(root)\n",
    "    return nodes, edges\n",
    "\n",
    "def draw_dot(root):\n",
    "    dot = Digraph(format='svg', graph_attr={'rankdir': 'LR'})\n",
    "    \n",
    "    nodes, edges = trace(root)\n",
    "    for n in nodes:\n",
    "        uid = str(id(n))\n",
    "        dot.node(name = uid, label = \"{%s | data %.4f | grad %.4f}\" % (n.label, n.data, n.grad), shape='record')\n",
    "        if n._op:\n",
    "            dot.node(name = uid + n._op, label = n._op)\n",
    "            dot.edge(uid + n._op, uid)\n",
    "            \n",
    "    for n1, n2 in edges:\n",
    "        dot.edge(str(id(n1)), str(id(n2)) + n2._op)\n",
    "        \n",
    "    return dot"
   ]
  },
  {
   "cell_type": "code",
   "execution_count": 12,
   "id": "7f8d0621",
   "metadata": {
    "execution": {
     "iopub.execute_input": "2024-08-07T10:35:00.970044Z",
     "iopub.status.busy": "2024-08-07T10:35:00.969618Z",
     "iopub.status.idle": "2024-08-07T10:35:00.976743Z",
     "shell.execute_reply": "2024-08-07T10:35:00.975533Z"
    },
    "papermill": {
     "duration": 0.02958,
     "end_time": "2024-08-07T10:35:00.979608",
     "exception": false,
     "start_time": "2024-08-07T10:35:00.950028",
     "status": "completed"
    },
    "tags": []
   },
   "outputs": [],
   "source": [
    "# Manual backpropogation\n",
    "\n",
    "a.grad = 6.0\n",
    "b.grad = -4.0\n",
    "c.grad = -2.0\n",
    "e.grad = -2.0\n",
    "d.grad = -2.0\n",
    "f.grad = 4.0\n",
    "L.grad = 1.0"
   ]
  },
  {
   "cell_type": "code",
   "execution_count": 13,
   "id": "fb3058e5",
   "metadata": {
    "execution": {
     "iopub.execute_input": "2024-08-07T10:35:01.015138Z",
     "iopub.status.busy": "2024-08-07T10:35:01.014715Z",
     "iopub.status.idle": "2024-08-07T10:35:01.501869Z",
     "shell.execute_reply": "2024-08-07T10:35:01.500321Z"
    },
    "papermill": {
     "duration": 0.509206,
     "end_time": "2024-08-07T10:35:01.505789",
     "exception": false,
     "start_time": "2024-08-07T10:35:00.996583",
     "status": "completed"
    },
    "tags": []
   },
   "outputs": [
    {
     "data": {
      "image/svg+xml": [
       "<?xml version=\"1.0\" encoding=\"UTF-8\" standalone=\"no\"?>\n",
       "<!DOCTYPE svg PUBLIC \"-//W3C//DTD SVG 1.1//EN\"\n",
       " \"http://www.w3.org/Graphics/SVG/1.1/DTD/svg11.dtd\">\n",
       "<!-- Generated by graphviz version 11.0.0 (20240519.1550)\n",
       " -->\n",
       "<!-- Pages: 1 -->\n",
       "<svg width=\"1334pt\" height=\"154pt\"\n",
       " viewBox=\"0.00 0.00 1334.00 154.00\" xmlns=\"http://www.w3.org/2000/svg\" xmlns:xlink=\"http://www.w3.org/1999/xlink\">\n",
       "<g id=\"graph0\" class=\"graph\" transform=\"scale(1 1) rotate(0) translate(4 150)\">\n",
       "<polygon fill=\"white\" stroke=\"none\" points=\"-4,4 -4,-150 1330,-150 1330,4 -4,4\"/>\n",
       "<!-- 135357532842512 -->\n",
       "<g id=\"node1\" class=\"node\">\n",
       "<title>135357532842512</title>\n",
       "<polygon fill=\"none\" stroke=\"black\" points=\"732,-54.5 732,-90.5 966,-90.5 966,-54.5 732,-54.5\"/>\n",
       "<text text-anchor=\"middle\" x=\"744.5\" y=\"-68.2\" font-family=\"Times,serif\" font-size=\"14.00\">d</text>\n",
       "<polyline fill=\"none\" stroke=\"black\" points=\"757,-55.25 757,-90.5\"/>\n",
       "<text text-anchor=\"middle\" x=\"807.75\" y=\"-68.2\" font-family=\"Times,serif\" font-size=\"14.00\">data 4.0000</text>\n",
       "<polyline fill=\"none\" stroke=\"black\" points=\"858.5,-55.25 858.5,-90.5\"/>\n",
       "<text text-anchor=\"middle\" x=\"912.25\" y=\"-68.2\" font-family=\"Times,serif\" font-size=\"14.00\">grad &#45;2.0000</text>\n",
       "</g>\n",
       "<!-- 135357532837088* -->\n",
       "<g id=\"node7\" class=\"node\">\n",
       "<title>135357532837088*</title>\n",
       "<ellipse fill=\"none\" stroke=\"black\" cx=\"1029\" cy=\"-99.5\" rx=\"27\" ry=\"18\"/>\n",
       "<text text-anchor=\"middle\" x=\"1029\" y=\"-94.83\" font-family=\"Times,serif\" font-size=\"14.00\">*</text>\n",
       "</g>\n",
       "<!-- 135357532842512&#45;&gt;135357532837088* -->\n",
       "<g id=\"edge8\" class=\"edge\">\n",
       "<title>135357532842512&#45;&gt;135357532837088*</title>\n",
       "<path fill=\"none\" stroke=\"black\" d=\"M966.24,-90.13C974.99,-91.46 983.34,-92.73 990.93,-93.88\"/>\n",
       "<polygon fill=\"black\" stroke=\"black\" points=\"990.24,-97.31 1000.66,-95.35 991.29,-90.39 990.24,-97.31\"/>\n",
       "</g>\n",
       "<!-- 135357532842512+ -->\n",
       "<g id=\"node2\" class=\"node\">\n",
       "<title>135357532842512+</title>\n",
       "<ellipse fill=\"none\" stroke=\"black\" cx=\"669\" cy=\"-72.5\" rx=\"27\" ry=\"18\"/>\n",
       "<text text-anchor=\"middle\" x=\"669\" y=\"-67.83\" font-family=\"Times,serif\" font-size=\"14.00\">+</text>\n",
       "</g>\n",
       "<!-- 135357532842512+&#45;&gt;135357532842512 -->\n",
       "<g id=\"edge1\" class=\"edge\">\n",
       "<title>135357532842512+&#45;&gt;135357532842512</title>\n",
       "<path fill=\"none\" stroke=\"black\" d=\"M696.26,-72.5C703.34,-72.5 711.48,-72.5 720.25,-72.5\"/>\n",
       "<polygon fill=\"black\" stroke=\"black\" points=\"720.15,-76 730.15,-72.5 720.15,-69 720.15,-76\"/>\n",
       "</g>\n",
       "<!-- 135357532846208 -->\n",
       "<g id=\"node3\" class=\"node\">\n",
       "<title>135357532846208</title>\n",
       "<polygon fill=\"none\" stroke=\"black\" points=\"364.5,-82.5 364.5,-118.5 606,-118.5 606,-82.5 364.5,-82.5\"/>\n",
       "<text text-anchor=\"middle\" x=\"376.25\" y=\"-96.2\" font-family=\"Times,serif\" font-size=\"14.00\">c</text>\n",
       "<polyline fill=\"none\" stroke=\"black\" points=\"388,-83.25 388,-118.5\"/>\n",
       "<text text-anchor=\"middle\" x=\"443.25\" y=\"-96.2\" font-family=\"Times,serif\" font-size=\"14.00\">data 10.0000</text>\n",
       "<polyline fill=\"none\" stroke=\"black\" points=\"498.5,-83.25 498.5,-118.5\"/>\n",
       "<text text-anchor=\"middle\" x=\"552.25\" y=\"-96.2\" font-family=\"Times,serif\" font-size=\"14.00\">grad &#45;2.0000</text>\n",
       "</g>\n",
       "<!-- 135357532846208&#45;&gt;135357532842512+ -->\n",
       "<g id=\"edge9\" class=\"edge\">\n",
       "<title>135357532846208&#45;&gt;135357532842512+</title>\n",
       "<path fill=\"none\" stroke=\"black\" d=\"M606.21,-82.02C614.99,-80.67 623.37,-79.38 630.96,-78.21\"/>\n",
       "<polygon fill=\"black\" stroke=\"black\" points=\"631.35,-81.69 640.7,-76.71 630.28,-74.77 631.35,-81.69\"/>\n",
       "</g>\n",
       "<!-- 135357532842656 -->\n",
       "<g id=\"node4\" class=\"node\">\n",
       "<title>135357532842656</title>\n",
       "<polygon fill=\"none\" stroke=\"black\" points=\"733.88,-109.5 733.88,-145.5 964.12,-145.5 964.12,-109.5 733.88,-109.5\"/>\n",
       "<text text-anchor=\"middle\" x=\"744.5\" y=\"-123.2\" font-family=\"Times,serif\" font-size=\"14.00\">f</text>\n",
       "<polyline fill=\"none\" stroke=\"black\" points=\"755.12,-110.25 755.12,-145.5\"/>\n",
       "<text text-anchor=\"middle\" x=\"808.12\" y=\"-123.2\" font-family=\"Times,serif\" font-size=\"14.00\">data &#45;2.0000</text>\n",
       "<polyline fill=\"none\" stroke=\"black\" points=\"861.12,-110.25 861.12,-145.5\"/>\n",
       "<text text-anchor=\"middle\" x=\"912.62\" y=\"-123.2\" font-family=\"Times,serif\" font-size=\"14.00\">grad 4.0000</text>\n",
       "</g>\n",
       "<!-- 135357532842656&#45;&gt;135357532837088* -->\n",
       "<g id=\"edge7\" class=\"edge\">\n",
       "<title>135357532842656&#45;&gt;135357532837088*</title>\n",
       "<path fill=\"none\" stroke=\"black\" d=\"M964.49,-109.49C973.92,-108.01 982.94,-106.59 991.06,-105.31\"/>\n",
       "<polygon fill=\"black\" stroke=\"black\" points=\"991.44,-108.79 1000.77,-103.78 990.35,-101.88 991.44,-108.79\"/>\n",
       "</g>\n",
       "<!-- 135357532846784 -->\n",
       "<g id=\"node5\" class=\"node\">\n",
       "<title>135357532846784</title>\n",
       "<polygon fill=\"none\" stroke=\"black\" points=\"0,-55.5 0,-91.5 238.5,-91.5 238.5,-55.5 0,-55.5\"/>\n",
       "<text text-anchor=\"middle\" x=\"12.5\" y=\"-69.2\" font-family=\"Times,serif\" font-size=\"14.00\">b</text>\n",
       "<polyline fill=\"none\" stroke=\"black\" points=\"25,-56.25 25,-91.5\"/>\n",
       "<text text-anchor=\"middle\" x=\"78\" y=\"-69.2\" font-family=\"Times,serif\" font-size=\"14.00\">data &#45;3.0000</text>\n",
       "<polyline fill=\"none\" stroke=\"black\" points=\"131,-56.25 131,-91.5\"/>\n",
       "<text text-anchor=\"middle\" x=\"184.75\" y=\"-69.2\" font-family=\"Times,serif\" font-size=\"14.00\">grad &#45;4.0000</text>\n",
       "</g>\n",
       "<!-- 135357532846400* -->\n",
       "<g id=\"node10\" class=\"node\">\n",
       "<title>135357532846400*</title>\n",
       "<ellipse fill=\"none\" stroke=\"black\" cx=\"301.5\" cy=\"-45.5\" rx=\"27\" ry=\"18\"/>\n",
       "<text text-anchor=\"middle\" x=\"301.5\" y=\"-40.83\" font-family=\"Times,serif\" font-size=\"14.00\">*</text>\n",
       "</g>\n",
       "<!-- 135357532846784&#45;&gt;135357532846400* -->\n",
       "<g id=\"edge6\" class=\"edge\">\n",
       "<title>135357532846784&#45;&gt;135357532846400*</title>\n",
       "<path fill=\"none\" stroke=\"black\" d=\"M238.97,-55.06C247.71,-53.7 256.05,-52.41 263.61,-51.23\"/>\n",
       "<polygon fill=\"black\" stroke=\"black\" points=\"263.95,-54.72 273.29,-49.73 262.88,-47.8 263.95,-54.72\"/>\n",
       "</g>\n",
       "<!-- 135357532837088 -->\n",
       "<g id=\"node6\" class=\"node\">\n",
       "<title>135357532837088</title>\n",
       "<polygon fill=\"none\" stroke=\"black\" points=\"1092,-81.5 1092,-117.5 1326,-117.5 1326,-81.5 1092,-81.5\"/>\n",
       "<text text-anchor=\"middle\" x=\"1104.5\" y=\"-95.2\" font-family=\"Times,serif\" font-size=\"14.00\">L</text>\n",
       "<polyline fill=\"none\" stroke=\"black\" points=\"1117,-82.25 1117,-117.5\"/>\n",
       "<text text-anchor=\"middle\" x=\"1170\" y=\"-95.2\" font-family=\"Times,serif\" font-size=\"14.00\">data &#45;8.0000</text>\n",
       "<polyline fill=\"none\" stroke=\"black\" points=\"1223,-82.25 1223,-117.5\"/>\n",
       "<text text-anchor=\"middle\" x=\"1274.5\" y=\"-95.2\" font-family=\"Times,serif\" font-size=\"14.00\">grad 1.0000</text>\n",
       "</g>\n",
       "<!-- 135357532837088*&#45;&gt;135357532837088 -->\n",
       "<g id=\"edge2\" class=\"edge\">\n",
       "<title>135357532837088*&#45;&gt;135357532837088</title>\n",
       "<path fill=\"none\" stroke=\"black\" d=\"M1056.26,-99.5C1063.34,-99.5 1071.48,-99.5 1080.25,-99.5\"/>\n",
       "<polygon fill=\"black\" stroke=\"black\" points=\"1080.15,-103 1090.15,-99.5 1080.15,-96 1080.15,-103\"/>\n",
       "</g>\n",
       "<!-- 135357532844816 -->\n",
       "<g id=\"node8\" class=\"node\">\n",
       "<title>135357532844816</title>\n",
       "<polygon fill=\"none\" stroke=\"black\" points=\"4.88,-0.5 4.88,-36.5 233.62,-36.5 233.62,-0.5 4.88,-0.5\"/>\n",
       "<text text-anchor=\"middle\" x=\"17\" y=\"-14.2\" font-family=\"Times,serif\" font-size=\"14.00\">a</text>\n",
       "<polyline fill=\"none\" stroke=\"black\" points=\"29.12,-1.25 29.12,-36.5\"/>\n",
       "<text text-anchor=\"middle\" x=\"79.88\" y=\"-14.2\" font-family=\"Times,serif\" font-size=\"14.00\">data 2.0000</text>\n",
       "<polyline fill=\"none\" stroke=\"black\" points=\"130.62,-1.25 130.62,-36.5\"/>\n",
       "<text text-anchor=\"middle\" x=\"182.12\" y=\"-14.2\" font-family=\"Times,serif\" font-size=\"14.00\">grad 6.0000</text>\n",
       "</g>\n",
       "<!-- 135357532844816&#45;&gt;135357532846400* -->\n",
       "<g id=\"edge5\" class=\"edge\">\n",
       "<title>135357532844816&#45;&gt;135357532846400*</title>\n",
       "<path fill=\"none\" stroke=\"black\" d=\"M233.89,-35.52C244.45,-37.1 254.55,-38.62 263.54,-39.96\"/>\n",
       "<polygon fill=\"black\" stroke=\"black\" points=\"262.78,-43.39 273.18,-41.41 263.81,-36.47 262.78,-43.39\"/>\n",
       "</g>\n",
       "<!-- 135357532846400 -->\n",
       "<g id=\"node9\" class=\"node\">\n",
       "<title>135357532846400</title>\n",
       "<polygon fill=\"none\" stroke=\"black\" points=\"366.38,-27.5 366.38,-63.5 604.12,-63.5 604.12,-27.5 366.38,-27.5\"/>\n",
       "<text text-anchor=\"middle\" x=\"378.5\" y=\"-41.2\" font-family=\"Times,serif\" font-size=\"14.00\">e</text>\n",
       "<polyline fill=\"none\" stroke=\"black\" points=\"390.62,-28.25 390.62,-63.5\"/>\n",
       "<text text-anchor=\"middle\" x=\"443.62\" y=\"-41.2\" font-family=\"Times,serif\" font-size=\"14.00\">data &#45;6.0000</text>\n",
       "<polyline fill=\"none\" stroke=\"black\" points=\"496.62,-28.25 496.62,-63.5\"/>\n",
       "<text text-anchor=\"middle\" x=\"550.38\" y=\"-41.2\" font-family=\"Times,serif\" font-size=\"14.00\">grad &#45;2.0000</text>\n",
       "</g>\n",
       "<!-- 135357532846400&#45;&gt;135357532842512+ -->\n",
       "<g id=\"edge4\" class=\"edge\">\n",
       "<title>135357532846400&#45;&gt;135357532842512+</title>\n",
       "<path fill=\"none\" stroke=\"black\" d=\"M604.43,-63.06C613.91,-64.46 622.95,-65.81 631.08,-67.02\"/>\n",
       "<polygon fill=\"black\" stroke=\"black\" points=\"630.39,-70.45 640.8,-68.46 631.42,-63.53 630.39,-70.45\"/>\n",
       "</g>\n",
       "<!-- 135357532846400*&#45;&gt;135357532846400 -->\n",
       "<g id=\"edge3\" class=\"edge\">\n",
       "<title>135357532846400*&#45;&gt;135357532846400</title>\n",
       "<path fill=\"none\" stroke=\"black\" d=\"M328.93,-45.5C336.5,-45.5 345.3,-45.5 354.79,-45.5\"/>\n",
       "<polygon fill=\"black\" stroke=\"black\" points=\"354.7,-49 364.7,-45.5 354.7,-42 354.7,-49\"/>\n",
       "</g>\n",
       "</g>\n",
       "</svg>\n"
      ],
      "text/plain": [
       "<graphviz.graphs.Digraph at 0x7b1b61a99f30>"
      ]
     },
     "execution_count": 13,
     "metadata": {},
     "output_type": "execute_result"
    }
   ],
   "source": [
    "draw_dot(L)"
   ]
  },
  {
   "cell_type": "code",
   "execution_count": 14,
   "id": "cf53f6e8",
   "metadata": {
    "execution": {
     "iopub.execute_input": "2024-08-07T10:35:01.540320Z",
     "iopub.status.busy": "2024-08-07T10:35:01.539009Z",
     "iopub.status.idle": "2024-08-07T10:35:01.547276Z",
     "shell.execute_reply": "2024-08-07T10:35:01.545800Z"
    },
    "papermill": {
     "duration": 0.028085,
     "end_time": "2024-08-07T10:35:01.550290",
     "exception": false,
     "start_time": "2024-08-07T10:35:01.522205",
     "status": "completed"
    },
    "tags": []
   },
   "outputs": [
    {
     "name": "stdout",
     "output_type": "stream",
     "text": [
      "-7.286496\n"
     ]
    }
   ],
   "source": [
    "# Forward pass\n",
    "a.data += 0.01 * a.grad\n",
    "b.data += 0.01 * b.grad\n",
    "c.data += 0.01 * c.grad\n",
    "f.data += 0.01 * f.grad\n",
    "\n",
    "e = a * b\n",
    "d = e + c\n",
    "L = d * f\n",
    "\n",
    "print(L.data)"
   ]
  },
  {
   "cell_type": "code",
   "execution_count": 15,
   "id": "7e1d494f",
   "metadata": {
    "execution": {
     "iopub.execute_input": "2024-08-07T10:35:01.584150Z",
     "iopub.status.busy": "2024-08-07T10:35:01.583772Z",
     "iopub.status.idle": "2024-08-07T10:35:01.594242Z",
     "shell.execute_reply": "2024-08-07T10:35:01.592964Z"
    },
    "papermill": {
     "duration": 0.030571,
     "end_time": "2024-08-07T10:35:01.596968",
     "exception": false,
     "start_time": "2024-08-07T10:35:01.566397",
     "status": "completed"
    },
    "tags": []
   },
   "outputs": [
    {
     "name": "stdout",
     "output_type": "stream",
     "text": [
      "6.000000000021544\n"
     ]
    }
   ],
   "source": [
    "def lol():\n",
    "    \n",
    "    h = 0.0001\n",
    "    \n",
    "    a = Value(2.0, label='a')\n",
    "    b = Value(-3.0, label='b')\n",
    "    c = Value(10.0, label='c')\n",
    "    e = a * b; e.label = 'e'\n",
    "    d = e + c; d.label = 'd'\n",
    "    f = Value(-2.0, label='f')\n",
    "    L = d * f; L.label = 'L'\n",
    "    L1 = L.data\n",
    "    \n",
    "    a = Value(2.0 + h, label='a')\n",
    "    b = Value(-3.0, label='b')\n",
    "    c = Value(10.0, label='c')\n",
    "    e = a * b; e.label = 'e'\n",
    "    d = e + c; d.label = 'd'\n",
    "    f = Value(-2.0, label='f')\n",
    "    L = d * f; L.label = 'L'\n",
    "    L2 = L.data\n",
    "    \n",
    "    print((L2 - L1) / h)\n",
    "    \n",
    "lol()"
   ]
  },
  {
   "cell_type": "markdown",
   "id": "8c9df65a",
   "metadata": {
    "papermill": {
     "duration": 0.01578,
     "end_time": "2024-08-07T10:35:01.628784",
     "exception": false,
     "start_time": "2024-08-07T10:35:01.613004",
     "status": "completed"
    },
    "tags": []
   },
   "source": [
    "## Backpropogation in a neuron"
   ]
  },
  {
   "cell_type": "code",
   "execution_count": 16,
   "id": "06245bfa",
   "metadata": {
    "execution": {
     "iopub.execute_input": "2024-08-07T10:35:01.664200Z",
     "iopub.status.busy": "2024-08-07T10:35:01.663825Z",
     "iopub.status.idle": "2024-08-07T10:35:01.976400Z",
     "shell.execute_reply": "2024-08-07T10:35:01.975244Z"
    },
    "papermill": {
     "duration": 0.333256,
     "end_time": "2024-08-07T10:35:01.979003",
     "exception": false,
     "start_time": "2024-08-07T10:35:01.645747",
     "status": "completed"
    },
    "tags": []
   },
   "outputs": [
    {
     "data": {
      "image/png": "[encoded data removed]",
      "text/plain": [
       "<Figure size 640x480 with 1 Axes>"
      ]
     },
     "metadata": {},
     "output_type": "display_data"
    }
   ],
   "source": [
    "# tanh activation function\n",
    "\n",
    "plt.plot(np.arange(-5, 5, 0.2), np.tanh(np.arange(-5, 5, 0.2))); plt.grid();"
   ]
  },
  {
   "cell_type": "code",
   "execution_count": 17,
   "id": "68d0b1b7",
   "metadata": {
    "execution": {
     "iopub.execute_input": "2024-08-07T10:35:02.015427Z",
     "iopub.status.busy": "2024-08-07T10:35:02.014239Z",
     "iopub.status.idle": "2024-08-07T10:35:02.023018Z",
     "shell.execute_reply": "2024-08-07T10:35:02.022063Z"
    },
    "papermill": {
     "duration": 0.029685,
     "end_time": "2024-08-07T10:35:02.025394",
     "exception": false,
     "start_time": "2024-08-07T10:35:01.995709",
     "status": "completed"
    },
    "tags": []
   },
   "outputs": [],
   "source": [
    "# inputs x1, x2\n",
    "x1 = Value(2.0, label='x1')\n",
    "x2 = Value(0.0, label='x2')\n",
    "\n",
    "# weights w1, w2\n",
    "w1 = Value(-3.0, label='w1')\n",
    "w2 = Value(1.0, label='w2')\n",
    "\n",
    "# bias of the neuron\n",
    "b = Value(6.8813735870195432, label='b')\n",
    "\n",
    "# x1*w1 + x2*w2 + b\n",
    "x1w1 = x1 * w1; x1w1.label = 'x1w1'\n",
    "x2w2 = x2 * w2; x2w2.label = 'x2w2'\n",
    "\n",
    "x1w1x2w2 = x1w1 + x2w2; x1w1x2w2.label = '(x1 * w1) + (x2 * w2)'\n",
    "n = x1w1x2w2 + b; n.label = 'n'\n",
    "o = n.tanh(); o.label = 'o'"
   ]
  },
  {
   "cell_type": "code",
   "execution_count": 18,
   "id": "5503bde0",
   "metadata": {
    "execution": {
     "iopub.execute_input": "2024-08-07T10:35:02.059417Z",
     "iopub.status.busy": "2024-08-07T10:35:02.058987Z",
     "iopub.status.idle": "2024-08-07T10:35:02.065854Z",
     "shell.execute_reply": "2024-08-07T10:35:02.064510Z"
    },
    "papermill": {
     "duration": 0.026719,
     "end_time": "2024-08-07T10:35:02.068489",
     "exception": false,
     "start_time": "2024-08-07T10:35:02.041770",
     "status": "completed"
    },
    "tags": []
   },
   "outputs": [],
   "source": [
    "# Manual backpropogation\n",
    "o.grad = 1.0\n",
    "n.grad = 0.5\n",
    "x1w1x2w2.grad = 0.5\n",
    "b.grad = 0.5\n",
    "x1w1.grad = 0.5\n",
    "x2w2.grad = 0.5\n",
    "x2.grad = w2.data * x2w2.grad\n",
    "w2.grad = x2.data * x2w2.grad\n",
    "x1.grad = w1.data * x1w1.grad\n",
    "w1.grad = x1.data * x1w1.grad"
   ]
  },
  {
   "cell_type": "code",
   "execution_count": 19,
   "id": "59f93ab6",
   "metadata": {
    "execution": {
     "iopub.execute_input": "2024-08-07T10:35:02.101922Z",
     "iopub.status.busy": "2024-08-07T10:35:02.101540Z",
     "iopub.status.idle": "2024-08-07T10:35:02.106657Z",
     "shell.execute_reply": "2024-08-07T10:35:02.105493Z"
    },
    "papermill": {
     "duration": 0.024703,
     "end_time": "2024-08-07T10:35:02.109077",
     "exception": false,
     "start_time": "2024-08-07T10:35:02.084374",
     "status": "completed"
    },
    "tags": []
   },
   "outputs": [],
   "source": [
    "o.grad = 1.0"
   ]
  },
  {
   "cell_type": "code",
   "execution_count": 20,
   "id": "172a619c",
   "metadata": {
    "execution": {
     "iopub.execute_input": "2024-08-07T10:35:02.143598Z",
     "iopub.status.busy": "2024-08-07T10:35:02.142677Z",
     "iopub.status.idle": "2024-08-07T10:35:02.147750Z",
     "shell.execute_reply": "2024-08-07T10:35:02.146645Z"
    },
    "papermill": {
     "duration": 0.025209,
     "end_time": "2024-08-07T10:35:02.150182",
     "exception": false,
     "start_time": "2024-08-07T10:35:02.124973",
     "status": "completed"
    },
    "tags": []
   },
   "outputs": [],
   "source": [
    "o._backward()"
   ]
  },
  {
   "cell_type": "code",
   "execution_count": 21,
   "id": "6426e8ee",
   "metadata": {
    "execution": {
     "iopub.execute_input": "2024-08-07T10:35:02.185253Z",
     "iopub.status.busy": "2024-08-07T10:35:02.184309Z",
     "iopub.status.idle": "2024-08-07T10:35:02.189529Z",
     "shell.execute_reply": "2024-08-07T10:35:02.188518Z"
    },
    "papermill": {
     "duration": 0.025146,
     "end_time": "2024-08-07T10:35:02.191899",
     "exception": false,
     "start_time": "2024-08-07T10:35:02.166753",
     "status": "completed"
    },
    "tags": []
   },
   "outputs": [],
   "source": [
    "n._backward()"
   ]
  },
  {
   "cell_type": "code",
   "execution_count": 22,
   "id": "b2769e0c",
   "metadata": {
    "execution": {
     "iopub.execute_input": "2024-08-07T10:35:02.227546Z",
     "iopub.status.busy": "2024-08-07T10:35:02.227096Z",
     "iopub.status.idle": "2024-08-07T10:35:02.233660Z",
     "shell.execute_reply": "2024-08-07T10:35:02.232115Z"
    },
    "papermill": {
     "duration": 0.028575,
     "end_time": "2024-08-07T10:35:02.237151",
     "exception": false,
     "start_time": "2024-08-07T10:35:02.208576",
     "status": "completed"
    },
    "tags": []
   },
   "outputs": [],
   "source": [
    "b._backward()\n",
    "x1w1x2w2._backward()"
   ]
  },
  {
   "cell_type": "code",
   "execution_count": 23,
   "id": "f4c542d4",
   "metadata": {
    "execution": {
     "iopub.execute_input": "2024-08-07T10:35:02.274864Z",
     "iopub.status.busy": "2024-08-07T10:35:02.274411Z",
     "iopub.status.idle": "2024-08-07T10:35:02.281845Z",
     "shell.execute_reply": "2024-08-07T10:35:02.280073Z"
    },
    "papermill": {
     "duration": 0.030893,
     "end_time": "2024-08-07T10:35:02.284986",
     "exception": false,
     "start_time": "2024-08-07T10:35:02.254093",
     "status": "completed"
    },
    "tags": []
   },
   "outputs": [],
   "source": [
    "x1w1._backward()\n",
    "x2w2._backward()"
   ]
  },
  {
   "cell_type": "code",
   "execution_count": 24,
   "id": "8f75a47f",
   "metadata": {
    "execution": {
     "iopub.execute_input": "2024-08-07T10:35:02.323019Z",
     "iopub.status.busy": "2024-08-07T10:35:02.322123Z",
     "iopub.status.idle": "2024-08-07T10:35:02.327501Z",
     "shell.execute_reply": "2024-08-07T10:35:02.326301Z"
    },
    "papermill": {
     "duration": 0.028567,
     "end_time": "2024-08-07T10:35:02.330283",
     "exception": false,
     "start_time": "2024-08-07T10:35:02.301716",
     "status": "completed"
    },
    "tags": []
   },
   "outputs": [],
   "source": [
    "o.backward()"
   ]
  },
  {
   "cell_type": "code",
   "execution_count": 25,
   "id": "97155666",
   "metadata": {
    "execution": {
     "iopub.execute_input": "2024-08-07T10:35:02.427267Z",
     "iopub.status.busy": "2024-08-07T10:35:02.426840Z",
     "iopub.status.idle": "2024-08-07T10:35:02.460176Z",
     "shell.execute_reply": "2024-08-07T10:35:02.458904Z"
    },
    "papermill": {
     "duration": 0.053501,
     "end_time": "2024-08-07T10:35:02.462995",
     "exception": false,
     "start_time": "2024-08-07T10:35:02.409494",
     "status": "completed"
    },
    "tags": []
   },
   "outputs": [
    {
     "data": {
      "image/svg+xml": [
       "<?xml version=\"1.0\" encoding=\"UTF-8\" standalone=\"no\"?>\n",
       "<!DOCTYPE svg PUBLIC \"-//W3C//DTD SVG 1.1//EN\"\n",
       " \"http://www.w3.org/Graphics/SVG/1.1/DTD/svg11.dtd\">\n",
       "<!-- Generated by graphviz version 11.0.0 (20240519.1550)\n",
       " -->\n",
       "<!-- Pages: 1 -->\n",
       "<svg width=\"1877pt\" height=\"210pt\"\n",
       " viewBox=\"0.00 0.00 1877.19 210.00\" xmlns=\"http://www.w3.org/2000/svg\" xmlns:xlink=\"http://www.w3.org/1999/xlink\">\n",
       "<g id=\"graph0\" class=\"graph\" transform=\"scale(1 1) rotate(0) translate(4 206)\">\n",
       "<polygon fill=\"white\" stroke=\"none\" points=\"-4,4 -4,-206 1873.19,-206 1873.19,4 -4,4\"/>\n",
       "<!-- 135357532832288 -->\n",
       "<g id=\"node1\" class=\"node\">\n",
       "<title>135357532832288</title>\n",
       "<polygon fill=\"none\" stroke=\"black\" points=\"8.62,-165.5 8.62,-201.5 246.38,-201.5 246.38,-165.5 8.62,-165.5\"/>\n",
       "<text text-anchor=\"middle\" x=\"25.25\" y=\"-179.2\" font-family=\"Times,serif\" font-size=\"14.00\">x2</text>\n",
       "<polyline fill=\"none\" stroke=\"black\" points=\"41.88,-166.25 41.88,-201.5\"/>\n",
       "<text text-anchor=\"middle\" x=\"92.62\" y=\"-179.2\" font-family=\"Times,serif\" font-size=\"14.00\">data 0.0000</text>\n",
       "<polyline fill=\"none\" stroke=\"black\" points=\"143.38,-166.25 143.38,-201.5\"/>\n",
       "<text text-anchor=\"middle\" x=\"194.88\" y=\"-179.2\" font-family=\"Times,serif\" font-size=\"14.00\">grad 7.5000</text>\n",
       "</g>\n",
       "<!-- 135357531705488* -->\n",
       "<g id=\"node7\" class=\"node\">\n",
       "<title>135357531705488*</title>\n",
       "<ellipse fill=\"none\" stroke=\"black\" cx=\"318\" cy=\"-128.5\" rx=\"27\" ry=\"18\"/>\n",
       "<text text-anchor=\"middle\" x=\"318\" y=\"-123.83\" font-family=\"Times,serif\" font-size=\"14.00\">*</text>\n",
       "</g>\n",
       "<!-- 135357532832288&#45;&gt;135357531705488* -->\n",
       "<g id=\"edge13\" class=\"edge\">\n",
       "<title>135357532832288&#45;&gt;135357531705488*</title>\n",
       "<path fill=\"none\" stroke=\"black\" d=\"M225.42,-165.05C235.49,-162.47 245.51,-159.62 255,-156.5 265.19,-153.15 275.95,-148.66 285.6,-144.25\"/>\n",
       "<polygon fill=\"black\" stroke=\"black\" points=\"287.01,-147.45 294.56,-140.02 284.02,-141.12 287.01,-147.45\"/>\n",
       "</g>\n",
       "<!-- 135357531708992 -->\n",
       "<g id=\"node2\" class=\"node\">\n",
       "<title>135357531708992</title>\n",
       "<polygon fill=\"none\" stroke=\"black\" points=\"381,-55.5 381,-91.5 644.25,-91.5 644.25,-55.5 381,-55.5\"/>\n",
       "<text text-anchor=\"middle\" x=\"408.12\" y=\"-69.2\" font-family=\"Times,serif\" font-size=\"14.00\">x1w1</text>\n",
       "<polyline fill=\"none\" stroke=\"black\" points=\"435.25,-56.25 435.25,-91.5\"/>\n",
       "<text text-anchor=\"middle\" x=\"488.25\" y=\"-69.2\" font-family=\"Times,serif\" font-size=\"14.00\">data &#45;6.0000</text>\n",
       "<polyline fill=\"none\" stroke=\"black\" points=\"541.25,-56.25 541.25,-91.5\"/>\n",
       "<text text-anchor=\"middle\" x=\"592.75\" y=\"-69.2\" font-family=\"Times,serif\" font-size=\"14.00\">grad 5.0000</text>\n",
       "</g>\n",
       "<!-- 135357531705680+ -->\n",
       "<g id=\"node12\" class=\"node\">\n",
       "<title>135357531705680+</title>\n",
       "<ellipse fill=\"none\" stroke=\"black\" cx=\"707.25\" cy=\"-100.5\" rx=\"27\" ry=\"18\"/>\n",
       "<text text-anchor=\"middle\" x=\"707.25\" y=\"-95.83\" font-family=\"Times,serif\" font-size=\"14.00\">+</text>\n",
       "</g>\n",
       "<!-- 135357531708992&#45;&gt;135357531705680+ -->\n",
       "<g id=\"edge9\" class=\"edge\">\n",
       "<title>135357531708992&#45;&gt;135357531705680+</title>\n",
       "<path fill=\"none\" stroke=\"black\" d=\"M644.51,-91.85C653.28,-93.08 661.62,-94.24 669.16,-95.3\"/>\n",
       "<polygon fill=\"black\" stroke=\"black\" points=\"668.42,-98.73 678.81,-96.65 669.39,-91.8 668.42,-98.73\"/>\n",
       "</g>\n",
       "<!-- 135357531708992* -->\n",
       "<g id=\"node3\" class=\"node\">\n",
       "<title>135357531708992*</title>\n",
       "<ellipse fill=\"none\" stroke=\"black\" cx=\"318\" cy=\"-73.5\" rx=\"27\" ry=\"18\"/>\n",
       "<text text-anchor=\"middle\" x=\"318\" y=\"-68.83\" font-family=\"Times,serif\" font-size=\"14.00\">*</text>\n",
       "</g>\n",
       "<!-- 135357531708992*&#45;&gt;135357531708992 -->\n",
       "<g id=\"edge1\" class=\"edge\">\n",
       "<title>135357531708992*&#45;&gt;135357531708992</title>\n",
       "<path fill=\"none\" stroke=\"black\" d=\"M345.38,-73.5C352.41,-73.5 360.51,-73.5 369.28,-73.5\"/>\n",
       "<polygon fill=\"black\" stroke=\"black\" points=\"369.21,-77 379.21,-73.5 369.21,-70 369.21,-77\"/>\n",
       "</g>\n",
       "<!-- 135357531709568 -->\n",
       "<g id=\"node4\" class=\"node\">\n",
       "<title>135357531709568</title>\n",
       "<polygon fill=\"none\" stroke=\"black\" points=\"1640.44,-54.5 1640.44,-90.5 1869.19,-90.5 1869.19,-54.5 1640.44,-54.5\"/>\n",
       "<text text-anchor=\"middle\" x=\"1652.57\" y=\"-68.2\" font-family=\"Times,serif\" font-size=\"14.00\">o</text>\n",
       "<polyline fill=\"none\" stroke=\"black\" points=\"1664.69,-55.25 1664.69,-90.5\"/>\n",
       "<text text-anchor=\"middle\" x=\"1715.44\" y=\"-68.2\" font-family=\"Times,serif\" font-size=\"14.00\">data 0.7071</text>\n",
       "<polyline fill=\"none\" stroke=\"black\" points=\"1766.19,-55.25 1766.19,-90.5\"/>\n",
       "<text text-anchor=\"middle\" x=\"1817.69\" y=\"-68.2\" font-family=\"Times,serif\" font-size=\"14.00\">grad 1.0000</text>\n",
       "</g>\n",
       "<!-- 135357531709568tanh -->\n",
       "<g id=\"node5\" class=\"node\">\n",
       "<title>135357531709568tanh</title>\n",
       "<ellipse fill=\"none\" stroke=\"black\" cx=\"1570.6\" cy=\"-72.5\" rx=\"33.85\" ry=\"18\"/>\n",
       "<text text-anchor=\"middle\" x=\"1570.6\" y=\"-67.83\" font-family=\"Times,serif\" font-size=\"14.00\">tanh</text>\n",
       "</g>\n",
       "<!-- 135357531709568tanh&#45;&gt;135357531709568 -->\n",
       "<g id=\"edge2\" class=\"edge\">\n",
       "<title>135357531709568tanh&#45;&gt;135357531709568</title>\n",
       "<path fill=\"none\" stroke=\"black\" d=\"M1604.6,-72.5C1611.95,-72.5 1620.17,-72.5 1628.88,-72.5\"/>\n",
       "<polygon fill=\"black\" stroke=\"black\" points=\"1628.61,-76 1638.61,-72.5 1628.61,-69 1628.61,-76\"/>\n",
       "</g>\n",
       "<!-- 135357531705488 -->\n",
       "<g id=\"node6\" class=\"node\">\n",
       "<title>135357531705488</title>\n",
       "<polygon fill=\"none\" stroke=\"black\" points=\"383.25,-110.5 383.25,-146.5 642,-146.5 642,-110.5 383.25,-110.5\"/>\n",
       "<text text-anchor=\"middle\" x=\"410.38\" y=\"-124.2\" font-family=\"Times,serif\" font-size=\"14.00\">x2w2</text>\n",
       "<polyline fill=\"none\" stroke=\"black\" points=\"437.5,-111.25 437.5,-146.5\"/>\n",
       "<text text-anchor=\"middle\" x=\"488.25\" y=\"-124.2\" font-family=\"Times,serif\" font-size=\"14.00\">data 0.0000</text>\n",
       "<polyline fill=\"none\" stroke=\"black\" points=\"539,-111.25 539,-146.5\"/>\n",
       "<text text-anchor=\"middle\" x=\"590.5\" y=\"-124.2\" font-family=\"Times,serif\" font-size=\"14.00\">grad 5.0000</text>\n",
       "</g>\n",
       "<!-- 135357531705488&#45;&gt;135357531705680+ -->\n",
       "<g id=\"edge11\" class=\"edge\">\n",
       "<title>135357531705488&#45;&gt;135357531705680+</title>\n",
       "<path fill=\"none\" stroke=\"black\" d=\"M640.77,-110.02C651,-108.53 660.71,-107.12 669.37,-105.86\"/>\n",
       "<polygon fill=\"black\" stroke=\"black\" points=\"669.59,-109.37 678.98,-104.46 668.58,-102.44 669.59,-109.37\"/>\n",
       "</g>\n",
       "<!-- 135357531705488*&#45;&gt;135357531705488 -->\n",
       "<g id=\"edge3\" class=\"edge\">\n",
       "<title>135357531705488*&#45;&gt;135357531705488</title>\n",
       "<path fill=\"none\" stroke=\"black\" d=\"M345.38,-128.5C352.93,-128.5 361.73,-128.5 371.27,-128.5\"/>\n",
       "<polygon fill=\"black\" stroke=\"black\" points=\"371.25,-132 381.25,-128.5 371.25,-125 371.25,-132\"/>\n",
       "</g>\n",
       "<!-- 135357533648544 -->\n",
       "<g id=\"node8\" class=\"node\">\n",
       "<title>135357533648544</title>\n",
       "<polygon fill=\"none\" stroke=\"black\" points=\"1.88,-55.5 1.88,-91.5 253.12,-91.5 253.12,-55.5 1.88,-55.5\"/>\n",
       "<text text-anchor=\"middle\" x=\"18.5\" y=\"-69.2\" font-family=\"Times,serif\" font-size=\"14.00\">x1</text>\n",
       "<polyline fill=\"none\" stroke=\"black\" points=\"35.12,-56.25 35.12,-91.5\"/>\n",
       "<text text-anchor=\"middle\" x=\"85.88\" y=\"-69.2\" font-family=\"Times,serif\" font-size=\"14.00\">data 2.0000</text>\n",
       "<polyline fill=\"none\" stroke=\"black\" points=\"136.62,-56.25 136.62,-91.5\"/>\n",
       "<text text-anchor=\"middle\" x=\"194.88\" y=\"-69.2\" font-family=\"Times,serif\" font-size=\"14.00\">grad &#45;22.5000</text>\n",
       "</g>\n",
       "<!-- 135357533648544&#45;&gt;135357531708992* -->\n",
       "<g id=\"edge8\" class=\"edge\">\n",
       "<title>135357533648544&#45;&gt;135357531708992*</title>\n",
       "<path fill=\"none\" stroke=\"black\" d=\"M253.45,-73.5C262.69,-73.5 271.49,-73.5 279.44,-73.5\"/>\n",
       "<polygon fill=\"black\" stroke=\"black\" points=\"279.27,-77 289.27,-73.5 279.27,-70 279.27,-77\"/>\n",
       "</g>\n",
       "<!-- 135357533643456 -->\n",
       "<g id=\"node9\" class=\"node\">\n",
       "<title>135357533643456</title>\n",
       "<polygon fill=\"none\" stroke=\"black\" points=\"843,-27.5 843,-63.5 1072.5,-63.5 1072.5,-27.5 843,-27.5\"/>\n",
       "<text text-anchor=\"middle\" x=\"855.5\" y=\"-41.2\" font-family=\"Times,serif\" font-size=\"14.00\">b</text>\n",
       "<polyline fill=\"none\" stroke=\"black\" points=\"868,-28.25 868,-63.5\"/>\n",
       "<text text-anchor=\"middle\" x=\"918.75\" y=\"-41.2\" font-family=\"Times,serif\" font-size=\"14.00\">data 6.8814</text>\n",
       "<polyline fill=\"none\" stroke=\"black\" points=\"969.5,-28.25 969.5,-63.5\"/>\n",
       "<text text-anchor=\"middle\" x=\"1021\" y=\"-41.2\" font-family=\"Times,serif\" font-size=\"14.00\">grad 3.0000</text>\n",
       "</g>\n",
       "<!-- 135357531705296+ -->\n",
       "<g id=\"node15\" class=\"node\">\n",
       "<title>135357531705296+</title>\n",
       "<ellipse fill=\"none\" stroke=\"black\" cx=\"1208.25\" cy=\"-72.5\" rx=\"27\" ry=\"18\"/>\n",
       "<text text-anchor=\"middle\" x=\"1208.25\" y=\"-67.83\" font-family=\"Times,serif\" font-size=\"14.00\">+</text>\n",
       "</g>\n",
       "<!-- 135357533643456&#45;&gt;135357531705296+ -->\n",
       "<g id=\"edge12\" class=\"edge\">\n",
       "<title>135357533643456&#45;&gt;135357531705296+</title>\n",
       "<path fill=\"none\" stroke=\"black\" d=\"M1072.82,-57.89C1108,-61.72 1144.28,-65.66 1170.27,-68.48\"/>\n",
       "<polygon fill=\"black\" stroke=\"black\" points=\"1169.63,-71.93 1179.95,-69.53 1170.38,-64.97 1169.63,-71.93\"/>\n",
       "</g>\n",
       "<!-- 135357533645520 -->\n",
       "<g id=\"node10\" class=\"node\">\n",
       "<title>135357533645520</title>\n",
       "<polygon fill=\"none\" stroke=\"black\" points=\"0,-0.5 0,-36.5 255,-36.5 255,-0.5 0,-0.5\"/>\n",
       "<text text-anchor=\"middle\" x=\"18.5\" y=\"-14.2\" font-family=\"Times,serif\" font-size=\"14.00\">w1</text>\n",
       "<polyline fill=\"none\" stroke=\"black\" points=\"37,-1.25 37,-36.5\"/>\n",
       "<text text-anchor=\"middle\" x=\"90\" y=\"-14.2\" font-family=\"Times,serif\" font-size=\"14.00\">data &#45;3.0000</text>\n",
       "<polyline fill=\"none\" stroke=\"black\" points=\"143,-1.25 143,-36.5\"/>\n",
       "<text text-anchor=\"middle\" x=\"199\" y=\"-14.2\" font-family=\"Times,serif\" font-size=\"14.00\">grad 15.0000</text>\n",
       "</g>\n",
       "<!-- 135357533645520&#45;&gt;135357531708992* -->\n",
       "<g id=\"edge10\" class=\"edge\">\n",
       "<title>135357533645520&#45;&gt;135357531708992*</title>\n",
       "<path fill=\"none\" stroke=\"black\" d=\"M225.42,-36.95C235.49,-39.53 245.51,-42.38 255,-45.5 265.19,-48.85 275.95,-53.34 285.6,-57.75\"/>\n",
       "<polygon fill=\"black\" stroke=\"black\" points=\"284.02,-60.88 294.56,-61.98 287.01,-54.55 284.02,-60.88\"/>\n",
       "</g>\n",
       "<!-- 135357531705680 -->\n",
       "<g id=\"node11\" class=\"node\">\n",
       "<title>135357531705680</title>\n",
       "<polygon fill=\"none\" stroke=\"black\" points=\"770.25,-82.5 770.25,-118.5 1145.25,-118.5 1145.25,-82.5 770.25,-82.5\"/>\n",
       "<text text-anchor=\"middle\" x=\"853.25\" y=\"-96.2\" font-family=\"Times,serif\" font-size=\"14.00\">(x1 * w1) + (x2 * w2)</text>\n",
       "<polyline fill=\"none\" stroke=\"black\" points=\"936.25,-83.25 936.25,-118.5\"/>\n",
       "<text text-anchor=\"middle\" x=\"989.25\" y=\"-96.2\" font-family=\"Times,serif\" font-size=\"14.00\">data &#45;6.0000</text>\n",
       "<polyline fill=\"none\" stroke=\"black\" points=\"1042.25,-83.25 1042.25,-118.5\"/>\n",
       "<text text-anchor=\"middle\" x=\"1093.75\" y=\"-96.2\" font-family=\"Times,serif\" font-size=\"14.00\">grad 3.0000</text>\n",
       "</g>\n",
       "<!-- 135357531705680&#45;&gt;135357531705296+ -->\n",
       "<g id=\"edge6\" class=\"edge\">\n",
       "<title>135357531705680&#45;&gt;135357531705296+</title>\n",
       "<path fill=\"none\" stroke=\"black\" d=\"M1122.77,-82.02C1140.28,-80.05 1156.62,-78.21 1170.17,-76.68\"/>\n",
       "<polygon fill=\"black\" stroke=\"black\" points=\"1170.26,-80.19 1179.81,-75.59 1169.48,-73.23 1170.26,-80.19\"/>\n",
       "</g>\n",
       "<!-- 135357531705680+&#45;&gt;135357531705680 -->\n",
       "<g id=\"edge4\" class=\"edge\">\n",
       "<title>135357531705680+&#45;&gt;135357531705680</title>\n",
       "<path fill=\"none\" stroke=\"black\" d=\"M734.37,-100.5C741.42,-100.5 749.62,-100.5 758.63,-100.5\"/>\n",
       "<polygon fill=\"black\" stroke=\"black\" points=\"758.49,-104 768.49,-100.5 758.49,-97 758.49,-104\"/>\n",
       "</g>\n",
       "<!-- 135357533647776 -->\n",
       "<g id=\"node13\" class=\"node\">\n",
       "<title>135357533647776</title>\n",
       "<polygon fill=\"none\" stroke=\"black\" points=\"6.75,-110.5 6.75,-146.5 248.25,-146.5 248.25,-110.5 6.75,-110.5\"/>\n",
       "<text text-anchor=\"middle\" x=\"25.25\" y=\"-124.2\" font-family=\"Times,serif\" font-size=\"14.00\">w2</text>\n",
       "<polyline fill=\"none\" stroke=\"black\" points=\"43.75,-111.25 43.75,-146.5\"/>\n",
       "<text text-anchor=\"middle\" x=\"94.5\" y=\"-124.2\" font-family=\"Times,serif\" font-size=\"14.00\">data 1.0000</text>\n",
       "<polyline fill=\"none\" stroke=\"black\" points=\"145.25,-111.25 145.25,-146.5\"/>\n",
       "<text text-anchor=\"middle\" x=\"196.75\" y=\"-124.2\" font-family=\"Times,serif\" font-size=\"14.00\">grad 0.0000</text>\n",
       "</g>\n",
       "<!-- 135357533647776&#45;&gt;135357531705488* -->\n",
       "<g id=\"edge14\" class=\"edge\">\n",
       "<title>135357533647776&#45;&gt;135357531705488*</title>\n",
       "<path fill=\"none\" stroke=\"black\" d=\"M248.68,-128.5C259.55,-128.5 269.92,-128.5 279.15,-128.5\"/>\n",
       "<polygon fill=\"black\" stroke=\"black\" points=\"279.06,-132 289.06,-128.5 279.06,-125 279.06,-132\"/>\n",
       "</g>\n",
       "<!-- 135357531705296 -->\n",
       "<g id=\"node14\" class=\"node\">\n",
       "<title>135357531705296</title>\n",
       "<polygon fill=\"none\" stroke=\"black\" points=\"1271.25,-54.5 1271.25,-90.5 1500.75,-90.5 1500.75,-54.5 1271.25,-54.5\"/>\n",
       "<text text-anchor=\"middle\" x=\"1283.75\" y=\"-68.2\" font-family=\"Times,serif\" font-size=\"14.00\">n</text>\n",
       "<polyline fill=\"none\" stroke=\"black\" points=\"1296.25,-55.25 1296.25,-90.5\"/>\n",
       "<text text-anchor=\"middle\" x=\"1347\" y=\"-68.2\" font-family=\"Times,serif\" font-size=\"14.00\">data 0.8814</text>\n",
       "<polyline fill=\"none\" stroke=\"black\" points=\"1397.75,-55.25 1397.75,-90.5\"/>\n",
       "<text text-anchor=\"middle\" x=\"1449.25\" y=\"-68.2\" font-family=\"Times,serif\" font-size=\"14.00\">grad 1.5000</text>\n",
       "</g>\n",
       "<!-- 135357531705296&#45;&gt;135357531709568tanh -->\n",
       "<g id=\"edge7\" class=\"edge\">\n",
       "<title>135357531705296&#45;&gt;135357531709568tanh</title>\n",
       "<path fill=\"none\" stroke=\"black\" d=\"M1501.08,-72.5C1509.51,-72.5 1517.65,-72.5 1525.21,-72.5\"/>\n",
       "<polygon fill=\"black\" stroke=\"black\" points=\"1525.04,-76 1535.04,-72.5 1525.04,-69 1525.04,-76\"/>\n",
       "</g>\n",
       "<!-- 135357531705296+&#45;&gt;135357531705296 -->\n",
       "<g id=\"edge5\" class=\"edge\">\n",
       "<title>135357531705296+&#45;&gt;135357531705296</title>\n",
       "<path fill=\"none\" stroke=\"black\" d=\"M1235.56,-72.5C1242.63,-72.5 1250.77,-72.5 1259.52,-72.5\"/>\n",
       "<polygon fill=\"black\" stroke=\"black\" points=\"1259.39,-76 1269.39,-72.5 1259.39,-69 1259.39,-76\"/>\n",
       "</g>\n",
       "</g>\n",
       "</svg>\n"
      ],
      "text/plain": [
       "<graphviz.graphs.Digraph at 0x7b1b61b5e8c0>"
      ]
     },
     "execution_count": 25,
     "metadata": {},
     "output_type": "execute_result"
    }
   ],
   "source": [
    "draw_dot(o)"
   ]
  },
  {
   "cell_type": "markdown",
   "id": "8bd13115",
   "metadata": {
    "papermill": {
     "duration": 0.016948,
     "end_time": "2024-08-07T10:35:02.498713",
     "exception": false,
     "start_time": "2024-08-07T10:35:02.481765",
     "status": "completed"
    },
    "tags": []
   },
   "source": [
    "## Multivariate case"
   ]
  },
  {
   "cell_type": "code",
   "execution_count": 26,
   "id": "e526d98a",
   "metadata": {
    "execution": {
     "iopub.execute_input": "2024-08-07T10:35:02.536413Z",
     "iopub.status.busy": "2024-08-07T10:35:02.535987Z",
     "iopub.status.idle": "2024-08-07T10:35:02.566192Z",
     "shell.execute_reply": "2024-08-07T10:35:02.565015Z"
    },
    "papermill": {
     "duration": 0.051742,
     "end_time": "2024-08-07T10:35:02.568819",
     "exception": false,
     "start_time": "2024-08-07T10:35:02.517077",
     "status": "completed"
    },
    "tags": []
   },
   "outputs": [
    {
     "data": {
      "image/svg+xml": [
       "<?xml version=\"1.0\" encoding=\"UTF-8\" standalone=\"no\"?>\n",
       "<!DOCTYPE svg PUBLIC \"-//W3C//DTD SVG 1.1//EN\"\n",
       " \"http://www.w3.org/Graphics/SVG/1.1/DTD/svg11.dtd\">\n",
       "<!-- Generated by graphviz version 11.0.0 (20240519.1550)\n",
       " -->\n",
       "<!-- Pages: 1 -->\n",
       "<svg width=\"592pt\" height=\"45pt\"\n",
       " viewBox=\"0.00 0.00 592.25 45.00\" xmlns=\"http://www.w3.org/2000/svg\" xmlns:xlink=\"http://www.w3.org/1999/xlink\">\n",
       "<g id=\"graph0\" class=\"graph\" transform=\"scale(1 1) rotate(0) translate(4 41)\">\n",
       "<polygon fill=\"white\" stroke=\"none\" points=\"-4,4 -4,-41 588.25,-41 588.25,4 -4,4\"/>\n",
       "<!-- 135357531702176 -->\n",
       "<g id=\"node1\" class=\"node\">\n",
       "<title>135357531702176</title>\n",
       "<polygon fill=\"none\" stroke=\"black\" points=\"0,-0.5 0,-36.5 228.75,-36.5 228.75,-0.5 0,-0.5\"/>\n",
       "<text text-anchor=\"middle\" x=\"12.12\" y=\"-14.2\" font-family=\"Times,serif\" font-size=\"14.00\">a</text>\n",
       "<polyline fill=\"none\" stroke=\"black\" points=\"24.25,-1.25 24.25,-36.5\"/>\n",
       "<text text-anchor=\"middle\" x=\"75\" y=\"-14.2\" font-family=\"Times,serif\" font-size=\"14.00\">data 3.0000</text>\n",
       "<polyline fill=\"none\" stroke=\"black\" points=\"125.75,-1.25 125.75,-36.5\"/>\n",
       "<text text-anchor=\"middle\" x=\"177.25\" y=\"-14.2\" font-family=\"Times,serif\" font-size=\"14.00\">grad 2.0000</text>\n",
       "</g>\n",
       "<!-- 135357531702464+ -->\n",
       "<g id=\"node3\" class=\"node\">\n",
       "<title>135357531702464+</title>\n",
       "<ellipse fill=\"none\" stroke=\"black\" cx=\"291.75\" cy=\"-18.5\" rx=\"27\" ry=\"18\"/>\n",
       "<text text-anchor=\"middle\" x=\"291.75\" y=\"-13.82\" font-family=\"Times,serif\" font-size=\"14.00\">+</text>\n",
       "</g>\n",
       "<!-- 135357531702176&#45;&gt;135357531702464+ -->\n",
       "<g id=\"edge2\" class=\"edge\">\n",
       "<title>135357531702176&#45;&gt;135357531702464+</title>\n",
       "<path fill=\"none\" stroke=\"black\" d=\"M228.92,-18.5C237.46,-18.5 245.64,-18.5 253.1,-18.5\"/>\n",
       "<polygon fill=\"black\" stroke=\"black\" points=\"253.01,-22 263.01,-18.5 253.01,-15 253.01,-22\"/>\n",
       "</g>\n",
       "<!-- 135357531702464 -->\n",
       "<g id=\"node2\" class=\"node\">\n",
       "<title>135357531702464</title>\n",
       "<polygon fill=\"none\" stroke=\"black\" points=\"354.75,-0.5 354.75,-36.5 584.25,-36.5 584.25,-0.5 354.75,-0.5\"/>\n",
       "<text text-anchor=\"middle\" x=\"367.25\" y=\"-14.2\" font-family=\"Times,serif\" font-size=\"14.00\">b</text>\n",
       "<polyline fill=\"none\" stroke=\"black\" points=\"379.75,-1.25 379.75,-36.5\"/>\n",
       "<text text-anchor=\"middle\" x=\"430.5\" y=\"-14.2\" font-family=\"Times,serif\" font-size=\"14.00\">data 6.0000</text>\n",
       "<polyline fill=\"none\" stroke=\"black\" points=\"481.25,-1.25 481.25,-36.5\"/>\n",
       "<text text-anchor=\"middle\" x=\"532.75\" y=\"-14.2\" font-family=\"Times,serif\" font-size=\"14.00\">grad 1.0000</text>\n",
       "</g>\n",
       "<!-- 135357531702464+&#45;&gt;135357531702464 -->\n",
       "<g id=\"edge1\" class=\"edge\">\n",
       "<title>135357531702464+&#45;&gt;135357531702464</title>\n",
       "<path fill=\"none\" stroke=\"black\" d=\"M319.06,-18.5C326.13,-18.5 334.27,-18.5 343.02,-18.5\"/>\n",
       "<polygon fill=\"black\" stroke=\"black\" points=\"342.89,-22 352.89,-18.5 342.89,-15 342.89,-22\"/>\n",
       "</g>\n",
       "</g>\n",
       "</svg>\n"
      ],
      "text/plain": [
       "<graphviz.graphs.Digraph at 0x7b1b61a9b280>"
      ]
     },
     "execution_count": 26,
     "metadata": {},
     "output_type": "execute_result"
    }
   ],
   "source": [
    "a = Value(3.0, label = 'a')\n",
    "b = a + a; b.label = 'b'\n",
    "\n",
    "b.backward()\n",
    "draw_dot(b)"
   ]
  },
  {
   "cell_type": "code",
   "execution_count": 27,
   "id": "94f83b48",
   "metadata": {
    "execution": {
     "iopub.execute_input": "2024-08-07T10:35:02.607679Z",
     "iopub.status.busy": "2024-08-07T10:35:02.607276Z",
     "iopub.status.idle": "2024-08-07T10:35:02.640487Z",
     "shell.execute_reply": "2024-08-07T10:35:02.639207Z"
    },
    "papermill": {
     "duration": 0.056009,
     "end_time": "2024-08-07T10:35:02.643397",
     "exception": false,
     "start_time": "2024-08-07T10:35:02.587388",
     "status": "completed"
    },
    "tags": []
   },
   "outputs": [
    {
     "data": {
      "image/svg+xml": [
       "<?xml version=\"1.0\" encoding=\"UTF-8\" standalone=\"no\"?>\n",
       "<!DOCTYPE svg PUBLIC \"-//W3C//DTD SVG 1.1//EN\"\n",
       " \"http://www.w3.org/Graphics/SVG/1.1/DTD/svg11.dtd\">\n",
       "<!-- Generated by graphviz version 11.0.0 (20240519.1550)\n",
       " -->\n",
       "<!-- Pages: 1 -->\n",
       "<svg width=\"962pt\" height=\"100pt\"\n",
       " viewBox=\"0.00 0.00 962.00 100.00\" xmlns=\"http://www.w3.org/2000/svg\" xmlns:xlink=\"http://www.w3.org/1999/xlink\">\n",
       "<g id=\"graph0\" class=\"graph\" transform=\"scale(1 1) rotate(0) translate(4 96)\">\n",
       "<polygon fill=\"white\" stroke=\"none\" points=\"-4,4 -4,-96 958,-96 958,4 -4,4\"/>\n",
       "<!-- 135357531706016 -->\n",
       "<g id=\"node1\" class=\"node\">\n",
       "<title>135357531706016</title>\n",
       "<polygon fill=\"none\" stroke=\"black\" points=\"723.75,-27.5 723.75,-63.5 954,-63.5 954,-27.5 723.75,-27.5\"/>\n",
       "<text text-anchor=\"middle\" x=\"734.38\" y=\"-41.2\" font-family=\"Times,serif\" font-size=\"14.00\">f</text>\n",
       "<polyline fill=\"none\" stroke=\"black\" points=\"745,-28.25 745,-63.5\"/>\n",
       "<text text-anchor=\"middle\" x=\"798\" y=\"-41.2\" font-family=\"Times,serif\" font-size=\"14.00\">data &#45;6.0000</text>\n",
       "<polyline fill=\"none\" stroke=\"black\" points=\"851,-28.25 851,-63.5\"/>\n",
       "<text text-anchor=\"middle\" x=\"902.5\" y=\"-41.2\" font-family=\"Times,serif\" font-size=\"14.00\">grad 1.0000</text>\n",
       "</g>\n",
       "<!-- 135357531706016* -->\n",
       "<g id=\"node2\" class=\"node\">\n",
       "<title>135357531706016*</title>\n",
       "<ellipse fill=\"none\" stroke=\"black\" cx=\"660.75\" cy=\"-45.5\" rx=\"27\" ry=\"18\"/>\n",
       "<text text-anchor=\"middle\" x=\"660.75\" y=\"-40.83\" font-family=\"Times,serif\" font-size=\"14.00\">*</text>\n",
       "</g>\n",
       "<!-- 135357531706016*&#45;&gt;135357531706016 -->\n",
       "<g id=\"edge1\" class=\"edge\">\n",
       "<title>135357531706016*&#45;&gt;135357531706016</title>\n",
       "<path fill=\"none\" stroke=\"black\" d=\"M688.12,-45.5C695.2,-45.5 703.36,-45.5 712.13,-45.5\"/>\n",
       "<polygon fill=\"black\" stroke=\"black\" points=\"712.02,-49 722.02,-45.5 712.02,-42 712.02,-49\"/>\n",
       "</g>\n",
       "<!-- 135357531711680 -->\n",
       "<g id=\"node3\" class=\"node\">\n",
       "<title>135357531711680</title>\n",
       "<polygon fill=\"none\" stroke=\"black\" points=\"364.12,-55.5 364.12,-91.5 597.38,-91.5 597.38,-55.5 364.12,-55.5\"/>\n",
       "<text text-anchor=\"middle\" x=\"376.25\" y=\"-69.2\" font-family=\"Times,serif\" font-size=\"14.00\">e</text>\n",
       "<polyline fill=\"none\" stroke=\"black\" points=\"388.38,-56.25 388.38,-91.5\"/>\n",
       "<text text-anchor=\"middle\" x=\"439.12\" y=\"-69.2\" font-family=\"Times,serif\" font-size=\"14.00\">data 1.0000</text>\n",
       "<polyline fill=\"none\" stroke=\"black\" points=\"489.88,-56.25 489.88,-91.5\"/>\n",
       "<text text-anchor=\"middle\" x=\"543.62\" y=\"-69.2\" font-family=\"Times,serif\" font-size=\"14.00\">grad &#45;6.0000</text>\n",
       "</g>\n",
       "<!-- 135357531711680&#45;&gt;135357531706016* -->\n",
       "<g id=\"edge7\" class=\"edge\">\n",
       "<title>135357531711680&#45;&gt;135357531706016*</title>\n",
       "<path fill=\"none\" stroke=\"black\" d=\"M597.49,-55.29C606.49,-53.88 615.08,-52.53 622.86,-51.3\"/>\n",
       "<polygon fill=\"black\" stroke=\"black\" points=\"623.14,-54.8 632.48,-49.79 622.06,-47.89 623.14,-54.8\"/>\n",
       "</g>\n",
       "<!-- 135357531711680+ -->\n",
       "<g id=\"node4\" class=\"node\">\n",
       "<title>135357531711680+</title>\n",
       "<ellipse fill=\"none\" stroke=\"black\" cx=\"300.75\" cy=\"-73.5\" rx=\"27\" ry=\"18\"/>\n",
       "<text text-anchor=\"middle\" x=\"300.75\" y=\"-68.83\" font-family=\"Times,serif\" font-size=\"14.00\">+</text>\n",
       "</g>\n",
       "<!-- 135357531711680+&#45;&gt;135357531711680 -->\n",
       "<g id=\"edge2\" class=\"edge\">\n",
       "<title>135357531711680+&#45;&gt;135357531711680</title>\n",
       "<path fill=\"none\" stroke=\"black\" d=\"M328.01,-73.5C335.23,-73.5 343.57,-73.5 352.55,-73.5\"/>\n",
       "<polygon fill=\"black\" stroke=\"black\" points=\"352.28,-77 362.28,-73.5 352.28,-70 352.28,-77\"/>\n",
       "</g>\n",
       "<!-- 135357531709760 -->\n",
       "<g id=\"node5\" class=\"node\">\n",
       "<title>135357531709760</title>\n",
       "<polygon fill=\"none\" stroke=\"black\" points=\"0,-55.5 0,-91.5 237.75,-91.5 237.75,-55.5 0,-55.5\"/>\n",
       "<text text-anchor=\"middle\" x=\"12.12\" y=\"-69.2\" font-family=\"Times,serif\" font-size=\"14.00\">a</text>\n",
       "<polyline fill=\"none\" stroke=\"black\" points=\"24.25,-56.25 24.25,-91.5\"/>\n",
       "<text text-anchor=\"middle\" x=\"77.25\" y=\"-69.2\" font-family=\"Times,serif\" font-size=\"14.00\">data &#45;2.0000</text>\n",
       "<polyline fill=\"none\" stroke=\"black\" points=\"130.25,-56.25 130.25,-91.5\"/>\n",
       "<text text-anchor=\"middle\" x=\"184\" y=\"-69.2\" font-family=\"Times,serif\" font-size=\"14.00\">grad &#45;3.0000</text>\n",
       "</g>\n",
       "<!-- 135357531709760&#45;&gt;135357531711680+ -->\n",
       "<g id=\"edge6\" class=\"edge\">\n",
       "<title>135357531709760&#45;&gt;135357531711680+</title>\n",
       "<path fill=\"none\" stroke=\"black\" d=\"M238.1,-73.5C246.57,-73.5 254.67,-73.5 262.05,-73.5\"/>\n",
       "<polygon fill=\"black\" stroke=\"black\" points=\"261.86,-77 271.86,-73.5 261.86,-70 261.86,-77\"/>\n",
       "</g>\n",
       "<!-- 135357531706256* -->\n",
       "<g id=\"node8\" class=\"node\">\n",
       "<title>135357531706256*</title>\n",
       "<ellipse fill=\"none\" stroke=\"black\" cx=\"300.75\" cy=\"-18.5\" rx=\"27\" ry=\"18\"/>\n",
       "<text text-anchor=\"middle\" x=\"300.75\" y=\"-13.82\" font-family=\"Times,serif\" font-size=\"14.00\">*</text>\n",
       "</g>\n",
       "<!-- 135357531709760&#45;&gt;135357531706256* -->\n",
       "<g id=\"edge4\" class=\"edge\">\n",
       "<title>135357531709760&#45;&gt;135357531706256*</title>\n",
       "<path fill=\"none\" stroke=\"black\" d=\"M209.22,-55.02C218.93,-52.43 228.6,-49.58 237.75,-46.5 247.92,-43.08 258.67,-38.56 268.32,-34.15\"/>\n",
       "<polygon fill=\"black\" stroke=\"black\" points=\"269.72,-37.36 277.28,-29.94 266.74,-31.03 269.72,-37.36\"/>\n",
       "</g>\n",
       "<!-- 135357532832576 -->\n",
       "<g id=\"node6\" class=\"node\">\n",
       "<title>135357532832576</title>\n",
       "<polygon fill=\"none\" stroke=\"black\" points=\"1.88,-0.5 1.88,-36.5 235.88,-36.5 235.88,-0.5 1.88,-0.5\"/>\n",
       "<text text-anchor=\"middle\" x=\"14.38\" y=\"-14.2\" font-family=\"Times,serif\" font-size=\"14.00\">b</text>\n",
       "<polyline fill=\"none\" stroke=\"black\" points=\"26.88,-1.25 26.88,-36.5\"/>\n",
       "<text text-anchor=\"middle\" x=\"77.62\" y=\"-14.2\" font-family=\"Times,serif\" font-size=\"14.00\">data 3.0000</text>\n",
       "<polyline fill=\"none\" stroke=\"black\" points=\"128.38,-1.25 128.38,-36.5\"/>\n",
       "<text text-anchor=\"middle\" x=\"182.12\" y=\"-14.2\" font-family=\"Times,serif\" font-size=\"14.00\">grad &#45;8.0000</text>\n",
       "</g>\n",
       "<!-- 135357532832576&#45;&gt;135357531711680+ -->\n",
       "<g id=\"edge5\" class=\"edge\">\n",
       "<title>135357532832576&#45;&gt;135357531711680+</title>\n",
       "<path fill=\"none\" stroke=\"black\" d=\"M205.69,-36.99C216.56,-39.89 227.47,-43.07 237.75,-46.5 247.78,-49.85 258.43,-54.18 268.02,-58.4\"/>\n",
       "<polygon fill=\"black\" stroke=\"black\" points=\"266.38,-61.49 276.93,-62.42 269.26,-55.11 266.38,-61.49\"/>\n",
       "</g>\n",
       "<!-- 135357532832576&#45;&gt;135357531706256* -->\n",
       "<g id=\"edge8\" class=\"edge\">\n",
       "<title>135357532832576&#45;&gt;135357531706256*</title>\n",
       "<path fill=\"none\" stroke=\"black\" d=\"M236.33,-18.5C245.48,-18.5 254.23,-18.5 262.15,-18.5\"/>\n",
       "<polygon fill=\"black\" stroke=\"black\" points=\"261.96,-22 271.96,-18.5 261.96,-15 261.96,-22\"/>\n",
       "</g>\n",
       "<!-- 135357531706256 -->\n",
       "<g id=\"node7\" class=\"node\">\n",
       "<title>135357531706256</title>\n",
       "<polygon fill=\"none\" stroke=\"black\" points=\"363.75,-0.5 363.75,-36.5 597.75,-36.5 597.75,-0.5 363.75,-0.5\"/>\n",
       "<text text-anchor=\"middle\" x=\"376.25\" y=\"-14.2\" font-family=\"Times,serif\" font-size=\"14.00\">d</text>\n",
       "<polyline fill=\"none\" stroke=\"black\" points=\"388.75,-1.25 388.75,-36.5\"/>\n",
       "<text text-anchor=\"middle\" x=\"441.75\" y=\"-14.2\" font-family=\"Times,serif\" font-size=\"14.00\">data &#45;6.0000</text>\n",
       "<polyline fill=\"none\" stroke=\"black\" points=\"494.75,-1.25 494.75,-36.5\"/>\n",
       "<text text-anchor=\"middle\" x=\"546.25\" y=\"-14.2\" font-family=\"Times,serif\" font-size=\"14.00\">grad 1.0000</text>\n",
       "</g>\n",
       "<!-- 135357531706256&#45;&gt;135357531706016* -->\n",
       "<g id=\"edge9\" class=\"edge\">\n",
       "<title>135357531706256&#45;&gt;135357531706016*</title>\n",
       "<path fill=\"none\" stroke=\"black\" d=\"M597.99,-36.13C606.74,-37.46 615.09,-38.73 622.68,-39.88\"/>\n",
       "<polygon fill=\"black\" stroke=\"black\" points=\"621.99,-43.31 632.41,-41.35 623.04,-36.39 621.99,-43.31\"/>\n",
       "</g>\n",
       "<!-- 135357531706256*&#45;&gt;135357531706256 -->\n",
       "<g id=\"edge3\" class=\"edge\">\n",
       "<title>135357531706256*&#45;&gt;135357531706256</title>\n",
       "<path fill=\"none\" stroke=\"black\" d=\"M328.01,-18.5C335.09,-18.5 343.23,-18.5 352,-18.5\"/>\n",
       "<polygon fill=\"black\" stroke=\"black\" points=\"351.9,-22 361.9,-18.5 351.9,-15 351.9,-22\"/>\n",
       "</g>\n",
       "</g>\n",
       "</svg>\n"
      ],
      "text/plain": [
       "<graphviz.graphs.Digraph at 0x7b1b61985600>"
      ]
     },
     "execution_count": 27,
     "metadata": {},
     "output_type": "execute_result"
    }
   ],
   "source": [
    "a = Value(-2.0, label='a')\n",
    "b = Value(3.0, label='b')\n",
    "\n",
    "d = a * b; d.label = 'd'\n",
    "e = a + b; e.label = 'e'\n",
    "f = d * e; f.label = 'f'\n",
    "\n",
    "f.backward()\n",
    "\n",
    "draw_dot(f)"
   ]
  },
  {
   "cell_type": "markdown",
   "id": "17016d22",
   "metadata": {
    "papermill": {
     "duration": 0.018502,
     "end_time": "2024-08-07T10:35:02.680162",
     "exception": false,
     "start_time": "2024-08-07T10:35:02.661660",
     "status": "completed"
    },
    "tags": []
   },
   "source": [
    "## Breaking down tanh"
   ]
  },
  {
   "cell_type": "code",
   "execution_count": 28,
   "id": "ef561dd4",
   "metadata": {
    "execution": {
     "iopub.execute_input": "2024-08-07T10:35:02.719842Z",
     "iopub.status.busy": "2024-08-07T10:35:02.719096Z",
     "iopub.status.idle": "2024-08-07T10:35:02.760124Z",
     "shell.execute_reply": "2024-08-07T10:35:02.758968Z"
    },
    "papermill": {
     "duration": 0.064255,
     "end_time": "2024-08-07T10:35:02.762819",
     "exception": false,
     "start_time": "2024-08-07T10:35:02.698564",
     "status": "completed"
    },
    "tags": []
   },
   "outputs": [
    {
     "data": {
      "image/svg+xml": [
       "<?xml version=\"1.0\" encoding=\"UTF-8\" standalone=\"no\"?>\n",
       "<!DOCTYPE svg PUBLIC \"-//W3C//DTD SVG 1.1//EN\"\n",
       " \"http://www.w3.org/Graphics/SVG/1.1/DTD/svg11.dtd\">\n",
       "<!-- Generated by graphviz version 11.0.0 (20240519.1550)\n",
       " -->\n",
       "<!-- Pages: 1 -->\n",
       "<svg width=\"3443pt\" height=\"239pt\"\n",
       " viewBox=\"0.00 0.00 3442.72 239.00\" xmlns=\"http://www.w3.org/2000/svg\" xmlns:xlink=\"http://www.w3.org/1999/xlink\">\n",
       "<g id=\"graph0\" class=\"graph\" transform=\"scale(1 1) rotate(0) translate(4 235)\">\n",
       "<polygon fill=\"white\" stroke=\"none\" points=\"-4,4 -4,-235 3438.72,-235 3438.72,4 -4,4\"/>\n",
       "<!-- 135357531715088 -->\n",
       "<g id=\"node1\" class=\"node\">\n",
       "<title>135357531715088</title>\n",
       "<polygon fill=\"none\" stroke=\"black\" points=\"2.25,-194.5 2.25,-230.5 243.75,-230.5 243.75,-194.5 2.25,-194.5\"/>\n",
       "<text text-anchor=\"middle\" x=\"20.75\" y=\"-208.2\" font-family=\"Times,serif\" font-size=\"14.00\">w2</text>\n",
       "<polyline fill=\"none\" stroke=\"black\" points=\"39.25,-195.25 39.25,-230.5\"/>\n",
       "<text text-anchor=\"middle\" x=\"90\" y=\"-208.2\" font-family=\"Times,serif\" font-size=\"14.00\">data 1.0000</text>\n",
       "<polyline fill=\"none\" stroke=\"black\" points=\"140.75,-195.25 140.75,-230.5\"/>\n",
       "<text text-anchor=\"middle\" x=\"192.25\" y=\"-208.2\" font-family=\"Times,serif\" font-size=\"14.00\">grad 0.0000</text>\n",
       "</g>\n",
       "<!-- 135357531708464* -->\n",
       "<g id=\"node3\" class=\"node\">\n",
       "<title>135357531708464*</title>\n",
       "<ellipse fill=\"none\" stroke=\"black\" cx=\"309\" cy=\"-157.5\" rx=\"27\" ry=\"18\"/>\n",
       "<text text-anchor=\"middle\" x=\"309\" y=\"-152.82\" font-family=\"Times,serif\" font-size=\"14.00\">*</text>\n",
       "</g>\n",
       "<!-- 135357531715088&#45;&gt;135357531708464* -->\n",
       "<g id=\"edge11\" class=\"edge\">\n",
       "<title>135357531715088&#45;&gt;135357531708464*</title>\n",
       "<path fill=\"none\" stroke=\"black\" d=\"M216.81,-194.07C226.74,-191.47 236.63,-188.61 246,-185.5 256.18,-182.12 266.94,-177.61 276.59,-173.2\"/>\n",
       "<polygon fill=\"black\" stroke=\"black\" points=\"277.99,-176.41 285.55,-168.98 275.01,-170.08 277.99,-176.41\"/>\n",
       "</g>\n",
       "<!-- 135357531708464 -->\n",
       "<g id=\"node2\" class=\"node\">\n",
       "<title>135357531708464</title>\n",
       "<polygon fill=\"none\" stroke=\"black\" points=\"374.25,-139.5 374.25,-175.5 633,-175.5 633,-139.5 374.25,-139.5\"/>\n",
       "<text text-anchor=\"middle\" x=\"401.38\" y=\"-153.2\" font-family=\"Times,serif\" font-size=\"14.00\">x2w2</text>\n",
       "<polyline fill=\"none\" stroke=\"black\" points=\"428.5,-140.25 428.5,-175.5\"/>\n",
       "<text text-anchor=\"middle\" x=\"479.25\" y=\"-153.2\" font-family=\"Times,serif\" font-size=\"14.00\">data 0.0000</text>\n",
       "<polyline fill=\"none\" stroke=\"black\" points=\"530,-140.25 530,-175.5\"/>\n",
       "<text text-anchor=\"middle\" x=\"581.5\" y=\"-153.2\" font-family=\"Times,serif\" font-size=\"14.00\">grad 0.5000</text>\n",
       "</g>\n",
       "<!-- 135357531708224+ -->\n",
       "<g id=\"node18\" class=\"node\">\n",
       "<title>135357531708224+</title>\n",
       "<ellipse fill=\"none\" stroke=\"black\" cx=\"698.25\" cy=\"-129.5\" rx=\"27\" ry=\"18\"/>\n",
       "<text text-anchor=\"middle\" x=\"698.25\" y=\"-124.83\" font-family=\"Times,serif\" font-size=\"14.00\">+</text>\n",
       "</g>\n",
       "<!-- 135357531708464&#45;&gt;135357531708224+ -->\n",
       "<g id=\"edge28\" class=\"edge\">\n",
       "<title>135357531708464&#45;&gt;135357531708224+</title>\n",
       "<path fill=\"none\" stroke=\"black\" d=\"M631.77,-139.02C642,-137.53 651.71,-136.12 660.37,-134.86\"/>\n",
       "<polygon fill=\"black\" stroke=\"black\" points=\"660.59,-138.37 669.98,-133.46 659.58,-131.44 660.59,-138.37\"/>\n",
       "</g>\n",
       "<!-- 135357531708464*&#45;&gt;135357531708464 -->\n",
       "<g id=\"edge1\" class=\"edge\">\n",
       "<title>135357531708464*&#45;&gt;135357531708464</title>\n",
       "<path fill=\"none\" stroke=\"black\" d=\"M336.38,-157.5C343.93,-157.5 352.73,-157.5 362.27,-157.5\"/>\n",
       "<polygon fill=\"black\" stroke=\"black\" points=\"362.25,-161 372.25,-157.5 362.25,-154 362.25,-161\"/>\n",
       "</g>\n",
       "<!-- 135357531713072 -->\n",
       "<g id=\"node4\" class=\"node\">\n",
       "<title>135357531713072</title>\n",
       "<polygon fill=\"none\" stroke=\"black\" points=\"1.88,-84.5 1.88,-120.5 244.12,-120.5 244.12,-84.5 1.88,-84.5\"/>\n",
       "<text text-anchor=\"middle\" x=\"18.5\" y=\"-98.2\" font-family=\"Times,serif\" font-size=\"14.00\">x1</text>\n",
       "<polyline fill=\"none\" stroke=\"black\" points=\"35.12,-85.25 35.12,-120.5\"/>\n",
       "<text text-anchor=\"middle\" x=\"85.88\" y=\"-98.2\" font-family=\"Times,serif\" font-size=\"14.00\">data 2.0000</text>\n",
       "<polyline fill=\"none\" stroke=\"black\" points=\"136.62,-85.25 136.62,-120.5\"/>\n",
       "<text text-anchor=\"middle\" x=\"190.38\" y=\"-98.2\" font-family=\"Times,serif\" font-size=\"14.00\">grad &#45;1.5000</text>\n",
       "</g>\n",
       "<!-- 135357531709280* -->\n",
       "<g id=\"node20\" class=\"node\">\n",
       "<title>135357531709280*</title>\n",
       "<ellipse fill=\"none\" stroke=\"black\" cx=\"309\" cy=\"-102.5\" rx=\"27\" ry=\"18\"/>\n",
       "<text text-anchor=\"middle\" x=\"309\" y=\"-97.83\" font-family=\"Times,serif\" font-size=\"14.00\">*</text>\n",
       "</g>\n",
       "<!-- 135357531713072&#45;&gt;135357531709280* -->\n",
       "<g id=\"edge15\" class=\"edge\">\n",
       "<title>135357531713072&#45;&gt;135357531709280*</title>\n",
       "<path fill=\"none\" stroke=\"black\" d=\"M244.42,-102.5C253.63,-102.5 262.41,-102.5 270.36,-102.5\"/>\n",
       "<polygon fill=\"black\" stroke=\"black\" points=\"270.2,-106 280.2,-102.5 270.2,-99 270.2,-106\"/>\n",
       "</g>\n",
       "<!-- 135357531703904 -->\n",
       "<g id=\"node5\" class=\"node\">\n",
       "<title>135357531703904</title>\n",
       "<polygon fill=\"none\" stroke=\"black\" points=\"2328.47,-82.5 2328.47,-118.5 2557.97,-118.5 2557.97,-82.5 2328.47,-82.5\"/>\n",
       "<text text-anchor=\"middle\" x=\"2338.72\" y=\"-96.2\" font-family=\"Times,serif\" font-size=\"14.00\"> </text>\n",
       "<polyline fill=\"none\" stroke=\"black\" points=\"2348.97,-83.25 2348.97,-118.5\"/>\n",
       "<text text-anchor=\"middle\" x=\"2399.72\" y=\"-96.2\" font-family=\"Times,serif\" font-size=\"14.00\">data 6.8284</text>\n",
       "<polyline fill=\"none\" stroke=\"black\" points=\"2450.47,-83.25 2450.47,-118.5\"/>\n",
       "<text text-anchor=\"middle\" x=\"2504.22\" y=\"-96.2\" font-family=\"Times,serif\" font-size=\"14.00\">grad &#45;0.1036</text>\n",
       "</g>\n",
       "<!-- 135357531707696**&#45;1 -->\n",
       "<g id=\"node22\" class=\"node\">\n",
       "<title>135357531707696**&#45;1</title>\n",
       "<ellipse fill=\"none\" stroke=\"black\" cx=\"2706.47\" cy=\"-100.5\" rx=\"30.16\" ry=\"18\"/>\n",
       "<text text-anchor=\"middle\" x=\"2706.47\" y=\"-95.83\" font-family=\"Times,serif\" font-size=\"14.00\">**&#45;1</text>\n",
       "</g>\n",
       "<!-- 135357531703904&#45;&gt;135357531707696**&#45;1 -->\n",
       "<g id=\"edge22\" class=\"edge\">\n",
       "<title>135357531703904&#45;&gt;135357531707696**&#45;1</title>\n",
       "<path fill=\"none\" stroke=\"black\" d=\"M2558.43,-100.5C2596.32,-100.5 2636.09,-100.5 2664.7,-100.5\"/>\n",
       "<polygon fill=\"black\" stroke=\"black\" points=\"2664.34,-104 2674.34,-100.5 2664.34,-97 2664.34,-104\"/>\n",
       "</g>\n",
       "<!-- 135357531703904+ -->\n",
       "<g id=\"node6\" class=\"node\">\n",
       "<title>135357531703904+</title>\n",
       "<ellipse fill=\"none\" stroke=\"black\" cx=\"2265.47\" cy=\"-100.5\" rx=\"27\" ry=\"18\"/>\n",
       "<text text-anchor=\"middle\" x=\"2265.47\" y=\"-95.83\" font-family=\"Times,serif\" font-size=\"14.00\">+</text>\n",
       "</g>\n",
       "<!-- 135357531703904+&#45;&gt;135357531703904 -->\n",
       "<g id=\"edge2\" class=\"edge\">\n",
       "<title>135357531703904+&#45;&gt;135357531703904</title>\n",
       "<path fill=\"none\" stroke=\"black\" d=\"M2292.78,-100.5C2299.85,-100.5 2307.99,-100.5 2316.74,-100.5\"/>\n",
       "<polygon fill=\"black\" stroke=\"black\" points=\"2316.61,-104 2326.61,-100.5 2316.61,-97 2316.61,-104\"/>\n",
       "</g>\n",
       "<!-- 135357531714176 -->\n",
       "<g id=\"node7\" class=\"node\">\n",
       "<title>135357531714176</title>\n",
       "<polygon fill=\"none\" stroke=\"black\" points=\"1972.97,-0.5 1972.97,-36.5 2202.47,-36.5 2202.47,-0.5 1972.97,-0.5\"/>\n",
       "<text text-anchor=\"middle\" x=\"1983.22\" y=\"-14.2\" font-family=\"Times,serif\" font-size=\"14.00\"> </text>\n",
       "<polyline fill=\"none\" stroke=\"black\" points=\"1993.47,-1.25 1993.47,-36.5\"/>\n",
       "<text text-anchor=\"middle\" x=\"2046.47\" y=\"-14.2\" font-family=\"Times,serif\" font-size=\"14.00\">data &#45;1.0000</text>\n",
       "<polyline fill=\"none\" stroke=\"black\" points=\"2099.47,-1.25 2099.47,-36.5\"/>\n",
       "<text text-anchor=\"middle\" x=\"2150.97\" y=\"-14.2\" font-family=\"Times,serif\" font-size=\"14.00\">grad 0.1464</text>\n",
       "</g>\n",
       "<!-- 135357531714224+ -->\n",
       "<g id=\"node9\" class=\"node\">\n",
       "<title>135357531714224+</title>\n",
       "<ellipse fill=\"none\" stroke=\"black\" cx=\"2265.47\" cy=\"-45.5\" rx=\"27\" ry=\"18\"/>\n",
       "<text text-anchor=\"middle\" x=\"2265.47\" y=\"-40.83\" font-family=\"Times,serif\" font-size=\"14.00\">+</text>\n",
       "</g>\n",
       "<!-- 135357531714176&#45;&gt;135357531714224+ -->\n",
       "<g id=\"edge16\" class=\"edge\">\n",
       "<title>135357531714176&#45;&gt;135357531714224+</title>\n",
       "<path fill=\"none\" stroke=\"black\" d=\"M2202.51,-35.98C2211.34,-37.34 2219.8,-38.64 2227.46,-39.81\"/>\n",
       "<polygon fill=\"black\" stroke=\"black\" points=\"2226.89,-43.27 2237.3,-41.33 2227.95,-36.35 2226.89,-43.27\"/>\n",
       "</g>\n",
       "<!-- 135357531714224 -->\n",
       "<g id=\"node8\" class=\"node\">\n",
       "<title>135357531714224</title>\n",
       "<polygon fill=\"none\" stroke=\"black\" points=\"2593.97,-27.5 2593.97,-63.5 2818.97,-63.5 2818.97,-27.5 2593.97,-27.5\"/>\n",
       "<text text-anchor=\"middle\" x=\"2604.22\" y=\"-41.2\" font-family=\"Times,serif\" font-size=\"14.00\"> </text>\n",
       "<polyline fill=\"none\" stroke=\"black\" points=\"2614.47,-28.25 2614.47,-63.5\"/>\n",
       "<text text-anchor=\"middle\" x=\"2665.22\" y=\"-41.2\" font-family=\"Times,serif\" font-size=\"14.00\">data 4.8284</text>\n",
       "<polyline fill=\"none\" stroke=\"black\" points=\"2715.97,-28.25 2715.97,-63.5\"/>\n",
       "<text text-anchor=\"middle\" x=\"2767.47\" y=\"-41.2\" font-family=\"Times,serif\" font-size=\"14.00\">grad 0.1464</text>\n",
       "</g>\n",
       "<!-- 135357531705776* -->\n",
       "<g id=\"node25\" class=\"node\">\n",
       "<title>135357531705776*</title>\n",
       "<ellipse fill=\"none\" stroke=\"black\" cx=\"3142.97\" cy=\"-72.5\" rx=\"27\" ry=\"18\"/>\n",
       "<text text-anchor=\"middle\" x=\"3142.97\" y=\"-67.83\" font-family=\"Times,serif\" font-size=\"14.00\">*</text>\n",
       "</g>\n",
       "<!-- 135357531714224&#45;&gt;135357531705776* -->\n",
       "<g id=\"edge26\" class=\"edge\">\n",
       "<title>135357531714224&#45;&gt;135357531705776*</title>\n",
       "<path fill=\"none\" stroke=\"black\" d=\"M2819.37,-52.45C2913.38,-58.3 3042.13,-66.3 3104.74,-70.19\"/>\n",
       "<polygon fill=\"black\" stroke=\"black\" points=\"3104.29,-73.67 3114.49,-70.79 3104.72,-66.68 3104.29,-73.67\"/>\n",
       "</g>\n",
       "<!-- 135357531714224+&#45;&gt;135357531714224 -->\n",
       "<g id=\"edge3\" class=\"edge\">\n",
       "<title>135357531714224+&#45;&gt;135357531714224</title>\n",
       "<path fill=\"none\" stroke=\"black\" d=\"M2292.95,-45.5C2348.9,-45.5 2482.28,-45.5 2582.33,-45.5\"/>\n",
       "<polygon fill=\"black\" stroke=\"black\" points=\"2582.23,-49 2592.23,-45.5 2582.23,-42 2582.23,-49\"/>\n",
       "</g>\n",
       "<!-- 135357531710144 -->\n",
       "<g id=\"node10\" class=\"node\">\n",
       "<title>135357531710144</title>\n",
       "<polygon fill=\"none\" stroke=\"black\" points=\"834,-56.5 834,-92.5 1063.5,-92.5 1063.5,-56.5 834,-56.5\"/>\n",
       "<text text-anchor=\"middle\" x=\"846.5\" y=\"-70.2\" font-family=\"Times,serif\" font-size=\"14.00\">b</text>\n",
       "<polyline fill=\"none\" stroke=\"black\" points=\"859,-57.25 859,-92.5\"/>\n",
       "<text text-anchor=\"middle\" x=\"909.75\" y=\"-70.2\" font-family=\"Times,serif\" font-size=\"14.00\">data 6.8814</text>\n",
       "<polyline fill=\"none\" stroke=\"black\" points=\"960.5,-57.25 960.5,-92.5\"/>\n",
       "<text text-anchor=\"middle\" x=\"1012\" y=\"-70.2\" font-family=\"Times,serif\" font-size=\"14.00\">grad 0.5000</text>\n",
       "</g>\n",
       "<!-- 135357531712832+ -->\n",
       "<g id=\"node16\" class=\"node\">\n",
       "<title>135357531712832+</title>\n",
       "<ellipse fill=\"none\" stroke=\"black\" cx=\"1199.25\" cy=\"-101.5\" rx=\"27\" ry=\"18\"/>\n",
       "<text text-anchor=\"middle\" x=\"1199.25\" y=\"-96.83\" font-family=\"Times,serif\" font-size=\"14.00\">+</text>\n",
       "</g>\n",
       "<!-- 135357531710144&#45;&gt;135357531712832+ -->\n",
       "<g id=\"edge21\" class=\"edge\">\n",
       "<title>135357531710144&#45;&gt;135357531712832+</title>\n",
       "<path fill=\"none\" stroke=\"black\" d=\"M1063.82,-86.89C1099,-90.72 1135.28,-94.66 1161.27,-97.48\"/>\n",
       "<polygon fill=\"black\" stroke=\"black\" points=\"1160.63,-100.93 1170.95,-98.53 1161.38,-93.97 1160.63,-100.93\"/>\n",
       "</g>\n",
       "<!-- 135357531708656 -->\n",
       "<g id=\"node11\" class=\"node\">\n",
       "<title>135357531708656</title>\n",
       "<polygon fill=\"none\" stroke=\"black\" points=\"4.12,-139.5 4.12,-175.5 241.88,-175.5 241.88,-139.5 4.12,-139.5\"/>\n",
       "<text text-anchor=\"middle\" x=\"20.75\" y=\"-153.2\" font-family=\"Times,serif\" font-size=\"14.00\">x2</text>\n",
       "<polyline fill=\"none\" stroke=\"black\" points=\"37.38,-140.25 37.38,-175.5\"/>\n",
       "<text text-anchor=\"middle\" x=\"88.12\" y=\"-153.2\" font-family=\"Times,serif\" font-size=\"14.00\">data 0.0000</text>\n",
       "<polyline fill=\"none\" stroke=\"black\" points=\"138.88,-140.25 138.88,-175.5\"/>\n",
       "<text text-anchor=\"middle\" x=\"190.38\" y=\"-153.2\" font-family=\"Times,serif\" font-size=\"14.00\">grad 0.5000</text>\n",
       "</g>\n",
       "<!-- 135357531708656&#45;&gt;135357531708464* -->\n",
       "<g id=\"edge17\" class=\"edge\">\n",
       "<title>135357531708656&#45;&gt;135357531708464*</title>\n",
       "<path fill=\"none\" stroke=\"black\" d=\"M242.35,-157.5C252.31,-157.5 261.82,-157.5 270.35,-157.5\"/>\n",
       "<polygon fill=\"black\" stroke=\"black\" points=\"270.2,-161 280.2,-157.5 270.2,-154 270.2,-161\"/>\n",
       "</g>\n",
       "<!-- 135357531713840 -->\n",
       "<g id=\"node12\" class=\"node\">\n",
       "<title>135357531713840</title>\n",
       "<polygon fill=\"none\" stroke=\"black\" points=\"1617.75,-55.5 1617.75,-91.5 1842.75,-91.5 1842.75,-55.5 1617.75,-55.5\"/>\n",
       "<text text-anchor=\"middle\" x=\"1628\" y=\"-69.2\" font-family=\"Times,serif\" font-size=\"14.00\"> </text>\n",
       "<polyline fill=\"none\" stroke=\"black\" points=\"1638.25,-56.25 1638.25,-91.5\"/>\n",
       "<text text-anchor=\"middle\" x=\"1689\" y=\"-69.2\" font-family=\"Times,serif\" font-size=\"14.00\">data 1.7627</text>\n",
       "<polyline fill=\"none\" stroke=\"black\" points=\"1739.75,-56.25 1739.75,-91.5\"/>\n",
       "<text text-anchor=\"middle\" x=\"1791.25\" y=\"-69.2\" font-family=\"Times,serif\" font-size=\"14.00\">grad 0.2500</text>\n",
       "</g>\n",
       "<!-- 135357531713984exp -->\n",
       "<g id=\"node27\" class=\"node\">\n",
       "<title>135357531713984exp</title>\n",
       "<ellipse fill=\"none\" stroke=\"black\" cx=\"1907.86\" cy=\"-73.5\" rx=\"29.11\" ry=\"18\"/>\n",
       "<text text-anchor=\"middle\" x=\"1907.86\" y=\"-68.83\" font-family=\"Times,serif\" font-size=\"14.00\">exp</text>\n",
       "</g>\n",
       "<!-- 135357531713840&#45;&gt;135357531713984exp -->\n",
       "<g id=\"edge12\" class=\"edge\">\n",
       "<title>135357531713840&#45;&gt;135357531713984exp</title>\n",
       "<path fill=\"none\" stroke=\"black\" d=\"M1842.96,-73.5C1851.39,-73.5 1859.49,-73.5 1866.93,-73.5\"/>\n",
       "<polygon fill=\"black\" stroke=\"black\" points=\"1866.89,-77 1876.89,-73.5 1866.89,-70 1866.89,-77\"/>\n",
       "</g>\n",
       "<!-- 135357531713840* -->\n",
       "<g id=\"node13\" class=\"node\">\n",
       "<title>135357531713840*</title>\n",
       "<ellipse fill=\"none\" stroke=\"black\" cx=\"1554.75\" cy=\"-73.5\" rx=\"27\" ry=\"18\"/>\n",
       "<text text-anchor=\"middle\" x=\"1554.75\" y=\"-68.83\" font-family=\"Times,serif\" font-size=\"14.00\">*</text>\n",
       "</g>\n",
       "<!-- 135357531713840*&#45;&gt;135357531713840 -->\n",
       "<g id=\"edge4\" class=\"edge\">\n",
       "<title>135357531713840*&#45;&gt;135357531713840</title>\n",
       "<path fill=\"none\" stroke=\"black\" d=\"M1582.1,-73.5C1589.17,-73.5 1597.29,-73.5 1606.02,-73.5\"/>\n",
       "<polygon fill=\"black\" stroke=\"black\" points=\"1605.85,-77 1615.85,-73.5 1605.85,-70 1605.85,-77\"/>\n",
       "</g>\n",
       "<!-- 135357531709232 -->\n",
       "<g id=\"node14\" class=\"node\">\n",
       "<title>135357531709232</title>\n",
       "<polygon fill=\"none\" stroke=\"black\" points=\"1264.5,-28.5 1264.5,-64.5 1489.5,-64.5 1489.5,-28.5 1264.5,-28.5\"/>\n",
       "<text text-anchor=\"middle\" x=\"1274.75\" y=\"-42.2\" font-family=\"Times,serif\" font-size=\"14.00\"> </text>\n",
       "<polyline fill=\"none\" stroke=\"black\" points=\"1285,-29.25 1285,-64.5\"/>\n",
       "<text text-anchor=\"middle\" x=\"1335.75\" y=\"-42.2\" font-family=\"Times,serif\" font-size=\"14.00\">data 2.0000</text>\n",
       "<polyline fill=\"none\" stroke=\"black\" points=\"1386.5,-29.25 1386.5,-64.5\"/>\n",
       "<text text-anchor=\"middle\" x=\"1438\" y=\"-42.2\" font-family=\"Times,serif\" font-size=\"14.00\">grad 0.2203</text>\n",
       "</g>\n",
       "<!-- 135357531709232&#45;&gt;135357531713840* -->\n",
       "<g id=\"edge25\" class=\"edge\">\n",
       "<title>135357531709232&#45;&gt;135357531713840*</title>\n",
       "<path fill=\"none\" stroke=\"black\" d=\"M1489.8,-63.68C1499.35,-65.14 1508.5,-66.55 1516.73,-67.81\"/>\n",
       "<polygon fill=\"black\" stroke=\"black\" points=\"1516.18,-71.27 1526.59,-69.33 1517.24,-64.35 1516.18,-71.27\"/>\n",
       "</g>\n",
       "<!-- 135357531712832 -->\n",
       "<g id=\"node15\" class=\"node\">\n",
       "<title>135357531712832</title>\n",
       "<polygon fill=\"none\" stroke=\"black\" points=\"1262.25,-83.5 1262.25,-119.5 1491.75,-119.5 1491.75,-83.5 1262.25,-83.5\"/>\n",
       "<text text-anchor=\"middle\" x=\"1274.75\" y=\"-97.2\" font-family=\"Times,serif\" font-size=\"14.00\">n</text>\n",
       "<polyline fill=\"none\" stroke=\"black\" points=\"1287.25,-84.25 1287.25,-119.5\"/>\n",
       "<text text-anchor=\"middle\" x=\"1338\" y=\"-97.2\" font-family=\"Times,serif\" font-size=\"14.00\">data 0.8814</text>\n",
       "<polyline fill=\"none\" stroke=\"black\" points=\"1388.75,-84.25 1388.75,-119.5\"/>\n",
       "<text text-anchor=\"middle\" x=\"1440.25\" y=\"-97.2\" font-family=\"Times,serif\" font-size=\"14.00\">grad 0.5000</text>\n",
       "</g>\n",
       "<!-- 135357531712832&#45;&gt;135357531713840* -->\n",
       "<g id=\"edge24\" class=\"edge\">\n",
       "<title>135357531712832&#45;&gt;135357531713840*</title>\n",
       "<path fill=\"none\" stroke=\"black\" d=\"M1491.79,-83.37C1500.62,-81.96 1509.07,-80.62 1516.74,-79.4\"/>\n",
       "<polygon fill=\"black\" stroke=\"black\" points=\"1517.25,-82.86 1526.58,-77.83 1516.15,-75.95 1517.25,-82.86\"/>\n",
       "</g>\n",
       "<!-- 135357531712832+&#45;&gt;135357531712832 -->\n",
       "<g id=\"edge5\" class=\"edge\">\n",
       "<title>135357531712832+&#45;&gt;135357531712832</title>\n",
       "<path fill=\"none\" stroke=\"black\" d=\"M1226.56,-101.5C1233.63,-101.5 1241.77,-101.5 1250.52,-101.5\"/>\n",
       "<polygon fill=\"black\" stroke=\"black\" points=\"1250.39,-105 1260.39,-101.5 1250.39,-98 1250.39,-105\"/>\n",
       "</g>\n",
       "<!-- 135357531708224 -->\n",
       "<g id=\"node17\" class=\"node\">\n",
       "<title>135357531708224</title>\n",
       "<polygon fill=\"none\" stroke=\"black\" points=\"761.25,-111.5 761.25,-147.5 1136.25,-147.5 1136.25,-111.5 761.25,-111.5\"/>\n",
       "<text text-anchor=\"middle\" x=\"844.25\" y=\"-125.2\" font-family=\"Times,serif\" font-size=\"14.00\">(x1 * w1) + (x2 * w2)</text>\n",
       "<polyline fill=\"none\" stroke=\"black\" points=\"927.25,-112.25 927.25,-147.5\"/>\n",
       "<text text-anchor=\"middle\" x=\"980.25\" y=\"-125.2\" font-family=\"Times,serif\" font-size=\"14.00\">data &#45;6.0000</text>\n",
       "<polyline fill=\"none\" stroke=\"black\" points=\"1033.25,-112.25 1033.25,-147.5\"/>\n",
       "<text text-anchor=\"middle\" x=\"1084.75\" y=\"-125.2\" font-family=\"Times,serif\" font-size=\"14.00\">grad 0.5000</text>\n",
       "</g>\n",
       "<!-- 135357531708224&#45;&gt;135357531712832+ -->\n",
       "<g id=\"edge20\" class=\"edge\">\n",
       "<title>135357531708224&#45;&gt;135357531712832+</title>\n",
       "<path fill=\"none\" stroke=\"black\" d=\"M1113.77,-111.02C1131.28,-109.05 1147.62,-107.21 1161.17,-105.68\"/>\n",
       "<polygon fill=\"black\" stroke=\"black\" points=\"1161.26,-109.19 1170.81,-104.59 1160.48,-102.23 1161.26,-109.19\"/>\n",
       "</g>\n",
       "<!-- 135357531708224+&#45;&gt;135357531708224 -->\n",
       "<g id=\"edge6\" class=\"edge\">\n",
       "<title>135357531708224+&#45;&gt;135357531708224</title>\n",
       "<path fill=\"none\" stroke=\"black\" d=\"M725.37,-129.5C732.42,-129.5 740.62,-129.5 749.63,-129.5\"/>\n",
       "<polygon fill=\"black\" stroke=\"black\" points=\"749.49,-133 759.49,-129.5 749.49,-126 749.49,-133\"/>\n",
       "</g>\n",
       "<!-- 135357531709280 -->\n",
       "<g id=\"node19\" class=\"node\">\n",
       "<title>135357531709280</title>\n",
       "<polygon fill=\"none\" stroke=\"black\" points=\"372,-84.5 372,-120.5 635.25,-120.5 635.25,-84.5 372,-84.5\"/>\n",
       "<text text-anchor=\"middle\" x=\"399.12\" y=\"-98.2\" font-family=\"Times,serif\" font-size=\"14.00\">x1w1</text>\n",
       "<polyline fill=\"none\" stroke=\"black\" points=\"426.25,-85.25 426.25,-120.5\"/>\n",
       "<text text-anchor=\"middle\" x=\"479.25\" y=\"-98.2\" font-family=\"Times,serif\" font-size=\"14.00\">data &#45;6.0000</text>\n",
       "<polyline fill=\"none\" stroke=\"black\" points=\"532.25,-85.25 532.25,-120.5\"/>\n",
       "<text text-anchor=\"middle\" x=\"583.75\" y=\"-98.2\" font-family=\"Times,serif\" font-size=\"14.00\">grad 0.5000</text>\n",
       "</g>\n",
       "<!-- 135357531709280&#45;&gt;135357531708224+ -->\n",
       "<g id=\"edge14\" class=\"edge\">\n",
       "<title>135357531709280&#45;&gt;135357531708224+</title>\n",
       "<path fill=\"none\" stroke=\"black\" d=\"M635.51,-120.85C644.28,-122.08 652.62,-123.24 660.16,-124.3\"/>\n",
       "<polygon fill=\"black\" stroke=\"black\" points=\"659.42,-127.73 669.81,-125.65 660.39,-120.8 659.42,-127.73\"/>\n",
       "</g>\n",
       "<!-- 135357531709280*&#45;&gt;135357531709280 -->\n",
       "<g id=\"edge7\" class=\"edge\">\n",
       "<title>135357531709280*&#45;&gt;135357531709280</title>\n",
       "<path fill=\"none\" stroke=\"black\" d=\"M336.38,-102.5C343.41,-102.5 351.51,-102.5 360.28,-102.5\"/>\n",
       "<polygon fill=\"black\" stroke=\"black\" points=\"360.21,-106 370.21,-102.5 360.21,-99 360.21,-106\"/>\n",
       "</g>\n",
       "<!-- 135357531707696 -->\n",
       "<g id=\"node21\" class=\"node\">\n",
       "<title>135357531707696</title>\n",
       "<polygon fill=\"none\" stroke=\"black\" points=\"2854.97,-80.5 2854.97,-116.5 3079.97,-116.5 3079.97,-80.5 2854.97,-80.5\"/>\n",
       "<text text-anchor=\"middle\" x=\"2865.22\" y=\"-94.2\" font-family=\"Times,serif\" font-size=\"14.00\"> </text>\n",
       "<polyline fill=\"none\" stroke=\"black\" points=\"2875.47,-81.25 2875.47,-116.5\"/>\n",
       "<text text-anchor=\"middle\" x=\"2926.22\" y=\"-94.2\" font-family=\"Times,serif\" font-size=\"14.00\">data 0.1464</text>\n",
       "<polyline fill=\"none\" stroke=\"black\" points=\"2976.97,-81.25 2976.97,-116.5\"/>\n",
       "<text text-anchor=\"middle\" x=\"3028.47\" y=\"-94.2\" font-family=\"Times,serif\" font-size=\"14.00\">grad 4.8284</text>\n",
       "</g>\n",
       "<!-- 135357531707696&#45;&gt;135357531705776* -->\n",
       "<g id=\"edge19\" class=\"edge\">\n",
       "<title>135357531707696&#45;&gt;135357531705776*</title>\n",
       "<path fill=\"none\" stroke=\"black\" d=\"M3080.31,-81.74C3089.01,-80.44 3097.33,-79.19 3104.9,-78.06\"/>\n",
       "<polygon fill=\"black\" stroke=\"black\" points=\"3105.23,-81.54 3114.6,-76.6 3104.2,-74.62 3105.23,-81.54\"/>\n",
       "</g>\n",
       "<!-- 135357531707696**&#45;1&#45;&gt;135357531707696 -->\n",
       "<g id=\"edge8\" class=\"edge\">\n",
       "<title>135357531707696**&#45;1&#45;&gt;135357531707696</title>\n",
       "<path fill=\"none\" stroke=\"black\" d=\"M2736.93,-100.27C2763.23,-100.07 2803.62,-99.76 2843.22,-99.45\"/>\n",
       "<polygon fill=\"black\" stroke=\"black\" points=\"2843.14,-102.95 2853.12,-99.38 2843.09,-95.95 2843.14,-102.95\"/>\n",
       "</g>\n",
       "<!-- 135357531704144 -->\n",
       "<g id=\"node23\" class=\"node\">\n",
       "<title>135357531704144</title>\n",
       "<polygon fill=\"none\" stroke=\"black\" points=\"1972.97,-110.5 1972.97,-146.5 2202.47,-146.5 2202.47,-110.5 1972.97,-110.5\"/>\n",
       "<text text-anchor=\"middle\" x=\"1983.22\" y=\"-124.2\" font-family=\"Times,serif\" font-size=\"14.00\"> </text>\n",
       "<polyline fill=\"none\" stroke=\"black\" points=\"1993.47,-111.25 1993.47,-146.5\"/>\n",
       "<text text-anchor=\"middle\" x=\"2044.22\" y=\"-124.2\" font-family=\"Times,serif\" font-size=\"14.00\">data 1.0000</text>\n",
       "<polyline fill=\"none\" stroke=\"black\" points=\"2094.97,-111.25 2094.97,-146.5\"/>\n",
       "<text text-anchor=\"middle\" x=\"2148.72\" y=\"-124.2\" font-family=\"Times,serif\" font-size=\"14.00\">grad &#45;0.1036</text>\n",
       "</g>\n",
       "<!-- 135357531704144&#45;&gt;135357531703904+ -->\n",
       "<g id=\"edge23\" class=\"edge\">\n",
       "<title>135357531704144&#45;&gt;135357531703904+</title>\n",
       "<path fill=\"none\" stroke=\"black\" d=\"M2202.51,-110.37C2211.34,-108.96 2219.8,-107.62 2227.46,-106.4\"/>\n",
       "<polygon fill=\"black\" stroke=\"black\" points=\"2227.98,-109.86 2237.3,-104.83 2226.88,-102.95 2227.98,-109.86\"/>\n",
       "</g>\n",
       "<!-- 135357531705776 -->\n",
       "<g id=\"node24\" class=\"node\">\n",
       "<title>135357531705776</title>\n",
       "<polygon fill=\"none\" stroke=\"black\" points=\"3205.97,-54.5 3205.97,-90.5 3434.72,-90.5 3434.72,-54.5 3205.97,-54.5\"/>\n",
       "<text text-anchor=\"middle\" x=\"3218.1\" y=\"-68.2\" font-family=\"Times,serif\" font-size=\"14.00\">o</text>\n",
       "<polyline fill=\"none\" stroke=\"black\" points=\"3230.22,-55.25 3230.22,-90.5\"/>\n",
       "<text text-anchor=\"middle\" x=\"3280.97\" y=\"-68.2\" font-family=\"Times,serif\" font-size=\"14.00\">data 0.7071</text>\n",
       "<polyline fill=\"none\" stroke=\"black\" points=\"3331.72,-55.25 3331.72,-90.5\"/>\n",
       "<text text-anchor=\"middle\" x=\"3383.22\" y=\"-68.2\" font-family=\"Times,serif\" font-size=\"14.00\">grad 1.0000</text>\n",
       "</g>\n",
       "<!-- 135357531705776*&#45;&gt;135357531705776 -->\n",
       "<g id=\"edge9\" class=\"edge\">\n",
       "<title>135357531705776*&#45;&gt;135357531705776</title>\n",
       "<path fill=\"none\" stroke=\"black\" d=\"M3170.23,-72.5C3177.28,-72.5 3185.4,-72.5 3194.14,-72.5\"/>\n",
       "<polygon fill=\"black\" stroke=\"black\" points=\"3193.98,-76 3203.98,-72.5 3193.98,-69 3193.98,-76\"/>\n",
       "</g>\n",
       "<!-- 135357531713984 -->\n",
       "<g id=\"node26\" class=\"node\">\n",
       "<title>135357531713984</title>\n",
       "<polygon fill=\"none\" stroke=\"black\" points=\"1975.22,-55.5 1975.22,-91.5 2200.22,-91.5 2200.22,-55.5 1975.22,-55.5\"/>\n",
       "<text text-anchor=\"middle\" x=\"1985.47\" y=\"-69.2\" font-family=\"Times,serif\" font-size=\"14.00\"> </text>\n",
       "<polyline fill=\"none\" stroke=\"black\" points=\"1995.72,-56.25 1995.72,-91.5\"/>\n",
       "<text text-anchor=\"middle\" x=\"2046.47\" y=\"-69.2\" font-family=\"Times,serif\" font-size=\"14.00\">data 5.8284</text>\n",
       "<polyline fill=\"none\" stroke=\"black\" points=\"2097.22,-56.25 2097.22,-91.5\"/>\n",
       "<text text-anchor=\"middle\" x=\"2148.72\" y=\"-69.2\" font-family=\"Times,serif\" font-size=\"14.00\">grad 0.0429</text>\n",
       "</g>\n",
       "<!-- 135357531713984&#45;&gt;135357531703904+ -->\n",
       "<g id=\"edge27\" class=\"edge\">\n",
       "<title>135357531713984&#45;&gt;135357531703904+</title>\n",
       "<path fill=\"none\" stroke=\"black\" d=\"M2200.53,-90.68C2210.08,-92.14 2219.22,-93.55 2227.46,-94.81\"/>\n",
       "<polygon fill=\"black\" stroke=\"black\" points=\"2226.9,-98.27 2237.32,-96.33 2227.96,-91.35 2226.9,-98.27\"/>\n",
       "</g>\n",
       "<!-- 135357531713984&#45;&gt;135357531714224+ -->\n",
       "<g id=\"edge13\" class=\"edge\">\n",
       "<title>135357531713984&#45;&gt;135357531714224+</title>\n",
       "<path fill=\"none\" stroke=\"black\" d=\"M2200.53,-55.69C2210.08,-54.17 2219.22,-52.71 2227.46,-51.4\"/>\n",
       "<polygon fill=\"black\" stroke=\"black\" points=\"2227.99,-54.86 2237.32,-49.83 2226.89,-47.94 2227.99,-54.86\"/>\n",
       "</g>\n",
       "<!-- 135357531713984exp&#45;&gt;135357531713984 -->\n",
       "<g id=\"edge10\" class=\"edge\">\n",
       "<title>135357531713984exp&#45;&gt;135357531713984</title>\n",
       "<path fill=\"none\" stroke=\"black\" d=\"M1937.44,-73.5C1945.13,-73.5 1953.97,-73.5 1963.41,-73.5\"/>\n",
       "<polygon fill=\"black\" stroke=\"black\" points=\"1963.24,-77 1973.24,-73.5 1963.24,-70 1963.24,-77\"/>\n",
       "</g>\n",
       "<!-- 135357531715040 -->\n",
       "<g id=\"node28\" class=\"node\">\n",
       "<title>135357531715040</title>\n",
       "<polygon fill=\"none\" stroke=\"black\" points=\"0,-29.5 0,-65.5 246,-65.5 246,-29.5 0,-29.5\"/>\n",
       "<text text-anchor=\"middle\" x=\"18.5\" y=\"-43.2\" font-family=\"Times,serif\" font-size=\"14.00\">w1</text>\n",
       "<polyline fill=\"none\" stroke=\"black\" points=\"37,-30.25 37,-65.5\"/>\n",
       "<text text-anchor=\"middle\" x=\"90\" y=\"-43.2\" font-family=\"Times,serif\" font-size=\"14.00\">data &#45;3.0000</text>\n",
       "<polyline fill=\"none\" stroke=\"black\" points=\"143,-30.25 143,-65.5\"/>\n",
       "<text text-anchor=\"middle\" x=\"194.5\" y=\"-43.2\" font-family=\"Times,serif\" font-size=\"14.00\">grad 1.0000</text>\n",
       "</g>\n",
       "<!-- 135357531715040&#45;&gt;135357531709280* -->\n",
       "<g id=\"edge18\" class=\"edge\">\n",
       "<title>135357531715040&#45;&gt;135357531709280*</title>\n",
       "<path fill=\"none\" stroke=\"black\" d=\"M213.15,-65.94C224.3,-68.84 235.47,-72.03 246,-75.5 256.05,-78.81 266.7,-83.13 276.29,-87.35\"/>\n",
       "<polygon fill=\"black\" stroke=\"black\" points=\"274.64,-90.44 285.2,-91.38 277.53,-84.07 274.64,-90.44\"/>\n",
       "</g>\n",
       "</g>\n",
       "</svg>\n"
      ],
      "text/plain": [
       "<graphviz.graphs.Digraph at 0x7b1b619871f0>"
      ]
     },
     "execution_count": 28,
     "metadata": {},
     "output_type": "execute_result"
    }
   ],
   "source": [
    "# inputs x1, x2\n",
    "x1 = Value(2.0, label='x1')\n",
    "x2 = Value(0.0, label='x2')\n",
    "\n",
    "# weights w1, w2\n",
    "w1 = Value(-3.0, label='w1')\n",
    "w2 = Value(1.0, label='w2')\n",
    "\n",
    "# bias of the neuron\n",
    "b = Value(6.8813735870195432, label='b')\n",
    "\n",
    "# x1*w1 + x2*w2 + b\n",
    "x1w1 = x1 * w1; x1w1.label = 'x1w1'\n",
    "x2w2 = x2 * w2; x2w2.label = 'x2w2'\n",
    "\n",
    "x1w1x2w2 = x1w1 + x2w2; x1w1x2w2.label = '(x1 * w1) + (x2 * w2)'\n",
    "n = x1w1x2w2 + b; n.label = 'n'\n",
    "e = (2 * n).exp()\n",
    "o = (e - 1) / (e + 1); o.label = 'o'\n",
    "o.backward()\n",
    "draw_dot(o)"
   ]
  },
  {
   "cell_type": "markdown",
   "id": "2a03c40b",
   "metadata": {
    "papermill": {
     "duration": 0.018541,
     "end_time": "2024-08-07T10:35:02.801369",
     "exception": false,
     "start_time": "2024-08-07T10:35:02.782828",
     "status": "completed"
    },
    "tags": []
   },
   "source": [
    "## Backpropogation using PyTorch"
   ]
  },
  {
   "cell_type": "code",
   "execution_count": 29,
   "id": "7377a0a2",
   "metadata": {
    "execution": {
     "iopub.execute_input": "2024-08-07T10:35:02.847739Z",
     "iopub.status.busy": "2024-08-07T10:35:02.846817Z",
     "iopub.status.idle": "2024-08-07T10:35:07.808568Z",
     "shell.execute_reply": "2024-08-07T10:35:07.807275Z"
    },
    "papermill": {
     "duration": 4.987503,
     "end_time": "2024-08-07T10:35:07.811314",
     "exception": false,
     "start_time": "2024-08-07T10:35:02.823811",
     "status": "completed"
    },
    "tags": []
   },
   "outputs": [],
   "source": [
    "import torch"
   ]
  },
  {
   "cell_type": "code",
   "execution_count": 30,
   "id": "baee2bdc",
   "metadata": {
    "execution": {
     "iopub.execute_input": "2024-08-07T10:35:07.852864Z",
     "iopub.status.busy": "2024-08-07T10:35:07.852340Z",
     "iopub.status.idle": "2024-08-07T10:35:08.008373Z",
     "shell.execute_reply": "2024-08-07T10:35:08.007105Z"
    },
    "papermill": {
     "duration": 0.179594,
     "end_time": "2024-08-07T10:35:08.011341",
     "exception": false,
     "start_time": "2024-08-07T10:35:07.831747",
     "status": "completed"
    },
    "tags": []
   },
   "outputs": [
    {
     "name": "stdout",
     "output_type": "stream",
     "text": [
      "0.7071066904050358\n",
      "---\n",
      "x2 0.5000001283844369\n",
      "w2 0.0\n",
      "x1 -1.5000003851533106\n",
      "w1 1.0000002567688737\n"
     ]
    }
   ],
   "source": [
    "x1 = torch.Tensor([2.0]).double()                ; x1.requires_grad = True\n",
    "x2 = torch.Tensor([0.0]).double()                ; x2.requires_grad = True\n",
    "w1 = torch.Tensor([-3.0]).double()               ; w1.requires_grad = True\n",
    "w2 = torch.Tensor([1.0]).double()                ; w2.requires_grad = True\n",
    "b = torch.Tensor([6.8813735870195432]).double()  ; b.requires_grad = True\n",
    "n = x1*w1 + x2*w2 + b\n",
    "o = torch.tanh(n)\n",
    "\n",
    "print(o.data.item())\n",
    "o.backward()\n",
    "\n",
    "print('---')\n",
    "print('x2', x2.grad.item())\n",
    "print('w2', w2.grad.item())\n",
    "print('x1', x1.grad.item())\n",
    "print('w1', w1.grad.item())"
   ]
  },
  {
   "cell_type": "markdown",
   "id": "7194b5d8",
   "metadata": {
    "papermill": {
     "duration": 0.018959,
     "end_time": "2024-08-07T10:35:08.056776",
     "exception": false,
     "start_time": "2024-08-07T10:35:08.037817",
     "status": "completed"
    },
    "tags": []
   },
   "source": [
    "## Building a 2 layered MLP"
   ]
  },
  {
   "cell_type": "code",
   "execution_count": 31,
   "id": "75cbd0c8",
   "metadata": {
    "execution": {
     "iopub.execute_input": "2024-08-07T10:35:08.095910Z",
     "iopub.status.busy": "2024-08-07T10:35:08.095503Z",
     "iopub.status.idle": "2024-08-07T10:35:08.110958Z",
     "shell.execute_reply": "2024-08-07T10:35:08.109749Z"
    },
    "papermill": {
     "duration": 0.038617,
     "end_time": "2024-08-07T10:35:08.113953",
     "exception": false,
     "start_time": "2024-08-07T10:35:08.075336",
     "status": "completed"
    },
    "tags": []
   },
   "outputs": [],
   "source": [
    "import random\n",
    "\n",
    "class Neuron:\n",
    "    \n",
    "    def __init__(self, nin):\n",
    "        self.w = [(Value(random.uniform(-1, 1))) for _ in range(nin)]\n",
    "        self.b = Value(random.uniform(-1, 1))\n",
    "        \n",
    "    def __call__(self, x):\n",
    "        act = sum((wi * xi for wi, xi in zip(self.w, x)), self.b)\n",
    "        out = act.tanh()\n",
    "        return out\n",
    "    def parameters(self):\n",
    "        return self.w + [self.b]\n",
    "    \n",
    "class Layer:\n",
    "    \n",
    "    def __init__(self, nin, nout):\n",
    "        self.neurons = [Neuron(nin) for _ in range(nout)]\n",
    "        \n",
    "    def __call__(self, x):\n",
    "        outs = [n(x) for n in self.neurons]\n",
    "        return outs[0] if len(outs) == 1 else outs\n",
    "    \n",
    "    def parameters(self):\n",
    "        return [p for neuron in self.neurons for p in neuron.parameters()]\n",
    "    \n",
    "class MLP:\n",
    "    \n",
    "    def __init__(self, nin, nouts):\n",
    "        sz = [nin] + nouts\n",
    "        self.layers = [Layer(sz[i], sz[i + 1]) for i in range(len(nouts))]\n",
    "        \n",
    "    def __call__(self, x):\n",
    "        for layer in self.layers:\n",
    "            x = layer(x)\n",
    "        return x\n",
    "    \n",
    "    def parameters(self):\n",
    "        return [p for layer in self.layers for p in layer.parameters()]\n",
    "    "
   ]
  },
  {
   "cell_type": "code",
   "execution_count": 32,
   "id": "68380ccb",
   "metadata": {
    "execution": {
     "iopub.execute_input": "2024-08-07T10:35:08.159278Z",
     "iopub.status.busy": "2024-08-07T10:35:08.158851Z",
     "iopub.status.idle": "2024-08-07T10:35:08.167828Z",
     "shell.execute_reply": "2024-08-07T10:35:08.166408Z"
    },
    "papermill": {
     "duration": 0.032123,
     "end_time": "2024-08-07T10:35:08.170476",
     "exception": false,
     "start_time": "2024-08-07T10:35:08.138353",
     "status": "completed"
    },
    "tags": []
   },
   "outputs": [
    {
     "data": {
      "text/plain": [
       "Value(data=0.7515934012444958)"
      ]
     },
     "execution_count": 32,
     "metadata": {},
     "output_type": "execute_result"
    }
   ],
   "source": [
    "x = [2.0, 3.0, -1.0]\n",
    "n = MLP(3, [4, 4, 1])\n",
    "n(x)"
   ]
  },
  {
   "cell_type": "code",
   "execution_count": 33,
   "id": "4c1ad3df",
   "metadata": {
    "execution": {
     "iopub.execute_input": "2024-08-07T10:35:08.210246Z",
     "iopub.status.busy": "2024-08-07T10:35:08.209806Z",
     "iopub.status.idle": "2024-08-07T10:35:08.218638Z",
     "shell.execute_reply": "2024-08-07T10:35:08.217313Z"
    },
    "papermill": {
     "duration": 0.031746,
     "end_time": "2024-08-07T10:35:08.221404",
     "exception": false,
     "start_time": "2024-08-07T10:35:08.189658",
     "status": "completed"
    },
    "tags": []
   },
   "outputs": [
    {
     "data": {
      "text/plain": [
       "41"
      ]
     },
     "execution_count": 33,
     "metadata": {},
     "output_type": "execute_result"
    }
   ],
   "source": [
    "len(n.parameters())"
   ]
  },
  {
   "cell_type": "code",
   "execution_count": 34,
   "id": "af7486b0",
   "metadata": {
    "execution": {
     "iopub.execute_input": "2024-08-07T10:35:08.264053Z",
     "iopub.status.busy": "2024-08-07T10:35:08.263554Z",
     "iopub.status.idle": "2024-08-07T10:35:08.271297Z",
     "shell.execute_reply": "2024-08-07T10:35:08.269987Z"
    },
    "papermill": {
     "duration": 0.032222,
     "end_time": "2024-08-07T10:35:08.273891",
     "exception": false,
     "start_time": "2024-08-07T10:35:08.241669",
     "status": "completed"
    },
    "tags": []
   },
   "outputs": [],
   "source": [
    "xs = [\n",
    "  [2.0, 3.0, -1.0],\n",
    "  [3.0, -1.0, 0.5],\n",
    "  [0.5, 1.0, 1.0],\n",
    "  [1.0, 1.0, -1.0],\n",
    "]\n",
    "ys = [1.0, -1.0, -1.0, 1.0] # desired targets"
   ]
  },
  {
   "cell_type": "code",
   "execution_count": 35,
   "id": "d5afb6f2",
   "metadata": {
    "execution": {
     "iopub.execute_input": "2024-08-07T10:35:08.319378Z",
     "iopub.status.busy": "2024-08-07T10:35:08.318834Z",
     "iopub.status.idle": "2024-08-07T10:35:08.490787Z",
     "shell.execute_reply": "2024-08-07T10:35:08.489248Z"
    },
    "papermill": {
     "duration": 0.198249,
     "end_time": "2024-08-07T10:35:08.493589",
     "exception": false,
     "start_time": "2024-08-07T10:35:08.295340",
     "status": "completed"
    },
    "tags": []
   },
   "outputs": [
    {
     "name": "stdout",
     "output_type": "stream",
     "text": [
      "0 6.235104455237463\n",
      "1 5.141666818748902\n",
      "2 3.8793998991685505\n",
      "3 2.461491564740221\n",
      "4 1.375704593861295\n",
      "5 0.8256755907457538\n",
      "6 0.5354825009234174\n",
      "7 0.37344856605098425\n",
      "8 0.2768596787431792\n",
      "9 0.2152828309730947\n",
      "10 0.17364786005741722\n",
      "11 0.14409643143846118\n",
      "12 0.12227668407084472\n",
      "13 0.10563774325984672\n",
      "14 0.09260759368234284\n",
      "15 0.08217468853980464\n",
      "16 0.07366353479498809\n",
      "17 0.06660842213404118\n",
      "18 0.06067928287695046\n",
      "19 0.05563649127941671\n"
     ]
    }
   ],
   "source": [
    "for k in range(20):\n",
    "    \n",
    "    # forward pass\n",
    "    ypred = [n(x) for x in xs]\n",
    "    loss = sum((yout - ygt) ** 2 for ygt, yout in zip(ys, ypred))\n",
    "    \n",
    "    # backward pass\n",
    "    for p in n.parameters():\n",
    "        p.grad = 0.0\n",
    "    loss.backward()\n",
    "    \n",
    "    # update\n",
    "    for p in n.parameters():\n",
    "        p.data += -0.05 * p.grad\n",
    "        \n",
    "    print(k, loss.data)"
   ]
  },
  {
   "cell_type": "code",
   "execution_count": 36,
   "id": "146e1333",
   "metadata": {
    "execution": {
     "iopub.execute_input": "2024-08-07T10:35:08.533403Z",
     "iopub.status.busy": "2024-08-07T10:35:08.532373Z",
     "iopub.status.idle": "2024-08-07T10:35:08.540329Z",
     "shell.execute_reply": "2024-08-07T10:35:08.538809Z"
    },
    "papermill": {
     "duration": 0.030665,
     "end_time": "2024-08-07T10:35:08.542967",
     "exception": false,
     "start_time": "2024-08-07T10:35:08.512302",
     "status": "completed"
    },
    "tags": []
   },
   "outputs": [
    {
     "data": {
      "text/plain": [
       "[Value(data=0.9278095466066414),\n",
       " Value(data=-0.8737020395622922),\n",
       " Value(data=-0.8643026762261713),\n",
       " Value(data=0.8732715847642135)]"
      ]
     },
     "execution_count": 36,
     "metadata": {},
     "output_type": "execute_result"
    }
   ],
   "source": [
    "ypred"
   ]
  },
  {
   "cell_type": "code",
   "execution_count": null,
   "id": "42a943ff",
   "metadata": {
    "papermill": {
     "duration": 0.019648,
     "end_time": "2024-08-07T10:35:08.582736",
     "exception": false,
     "start_time": "2024-08-07T10:35:08.563088",
     "status": "completed"
    },
    "tags": []
   },
   "outputs": [],
   "source": []
  }
 ],
 "metadata": {
  "kaggle": {
   "accelerator": "none",
   "dataSources": [],
   "dockerImageVersionId": 30746,
   "isGpuEnabled": false,
   "isInternetEnabled": true,
   "language": "python",
   "sourceType": "notebook"
  },
  "kernelspec": {
   "display_name": "Python 3",
   "language": "python",
   "name": "python3"
  },
  "language_info": {
   "codemirror_mode": {
    "name": "ipython",
    "version": 3
   },
   "file_extension": ".py",
   "mimetype": "text/x-python",
   "name": "python",
   "nbconvert_exporter": "python",
   "pygments_lexer": "ipython3",
   "version": "3.10.13"
  },
  "papermill": {
   "default_parameters": {},
   "duration": 13.636681,
   "end_time": "2024-08-07T10:35:09.529260",
   "environment_variables": {},
   "exception": null,
   "input_path": "__notebook__.ipynb",
   "output_path": "__notebook__.ipynb",
   "parameters": {},
   "start_time": "2024-08-07T10:34:55.892579",
   "version": "2.5.0"
  }
 },
 "nbformat": 4,
 "nbformat_minor": 5
}
