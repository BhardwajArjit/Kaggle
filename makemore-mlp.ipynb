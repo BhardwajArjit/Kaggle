{
 "cells": [
  {
   "cell_type": "code",
   "execution_count": 1,
   "id": "f9538077",
   "metadata": {
    "execution": {
     "iopub.execute_input": "2024-08-12T11:29:27.444368Z",
     "iopub.status.busy": "2024-08-12T11:29:27.443561Z",
     "iopub.status.idle": "2024-08-12T11:29:31.135741Z",
     "shell.execute_reply": "2024-08-12T11:29:31.134605Z"
    },
    "papermill": {
     "duration": 3.705287,
     "end_time": "2024-08-12T11:29:31.138397",
     "exception": false,
     "start_time": "2024-08-12T11:29:27.433110",
     "status": "completed"
    },
    "tags": []
   },
   "outputs": [],
   "source": [
    "import torch\n",
    "import torch.nn.functional as F\n",
    "import matplotlib.pyplot as plt\n",
    "%matplotlib inline"
   ]
  },
  {
   "cell_type": "code",
   "execution_count": 2,
   "id": "bc3ceacb",
   "metadata": {
    "execution": {
     "iopub.execute_input": "2024-08-12T11:29:31.156899Z",
     "iopub.status.busy": "2024-08-12T11:29:31.156388Z",
     "iopub.status.idle": "2024-08-12T11:29:31.175286Z",
     "shell.execute_reply": "2024-08-12T11:29:31.174109Z"
    },
    "papermill": {
     "duration": 0.030823,
     "end_time": "2024-08-12T11:29:31.177725",
     "exception": false,
     "start_time": "2024-08-12T11:29:31.146902",
     "status": "completed"
    },
    "tags": []
   },
   "outputs": [
    {
     "data": {
      "text/plain": [
       "['emma', 'olivia', 'ava', 'isabella', 'sophia']"
      ]
     },
     "execution_count": 2,
     "metadata": {},
     "output_type": "execute_result"
    }
   ],
   "source": [
    "words = open('/kaggle/input/names-for-makemore/names.txt', 'r').read().splitlines()\n",
    "words[:5]"
   ]
  },
  {
   "cell_type": "code",
   "execution_count": 3,
   "id": "4670eca6",
   "metadata": {
    "execution": {
     "iopub.execute_input": "2024-08-12T11:29:31.196273Z",
     "iopub.status.busy": "2024-08-12T11:29:31.195883Z",
     "iopub.status.idle": "2024-08-12T11:29:31.202367Z",
     "shell.execute_reply": "2024-08-12T11:29:31.201312Z"
    },
    "papermill": {
     "duration": 0.018232,
     "end_time": "2024-08-12T11:29:31.204660",
     "exception": false,
     "start_time": "2024-08-12T11:29:31.186428",
     "status": "completed"
    },
    "tags": []
   },
   "outputs": [
    {
     "data": {
      "text/plain": [
       "32033"
      ]
     },
     "execution_count": 3,
     "metadata": {},
     "output_type": "execute_result"
    }
   ],
   "source": [
    "len(words)"
   ]
  },
  {
   "cell_type": "code",
   "execution_count": 4,
   "id": "39209669",
   "metadata": {
    "execution": {
     "iopub.execute_input": "2024-08-12T11:29:31.225426Z",
     "iopub.status.busy": "2024-08-12T11:29:31.225002Z",
     "iopub.status.idle": "2024-08-12T11:29:31.236642Z",
     "shell.execute_reply": "2024-08-12T11:29:31.235500Z"
    },
    "papermill": {
     "duration": 0.025224,
     "end_time": "2024-08-12T11:29:31.238777",
     "exception": false,
     "start_time": "2024-08-12T11:29:31.213553",
     "status": "completed"
    },
    "tags": []
   },
   "outputs": [
    {
     "name": "stdout",
     "output_type": "stream",
     "text": [
      "{1: 'a', 2: 'b', 3: 'c', 4: 'd', 5: 'e', 6: 'f', 7: 'g', 8: 'h', 9: 'i', 10: 'j', 11: 'k', 12: 'l', 13: 'm', 14: 'n', 15: 'o', 16: 'p', 17: 'q', 18: 'r', 19: 's', 20: 't', 21: 'u', 22: 'v', 23: 'w', 24: 'x', 25: 'y', 26: 'z', 0: '.'}\n"
     ]
    }
   ],
   "source": [
    "chars = sorted(list(set(''.join(words))))\n",
    "stoi = {s:i+1 for i, s in enumerate(chars)}\n",
    "stoi['.'] = 0\n",
    "itos = {i:s for s, i in stoi.items()}\n",
    "print(itos)"
   ]
  },
  {
   "cell_type": "code",
   "execution_count": 5,
   "id": "436046ff",
   "metadata": {
    "execution": {
     "iopub.execute_input": "2024-08-12T11:29:31.257232Z",
     "iopub.status.busy": "2024-08-12T11:29:31.256819Z",
     "iopub.status.idle": "2024-08-12T11:29:32.054058Z",
     "shell.execute_reply": "2024-08-12T11:29:32.052881Z"
    },
    "papermill": {
     "duration": 0.809432,
     "end_time": "2024-08-12T11:29:32.056635",
     "exception": false,
     "start_time": "2024-08-12T11:29:31.247203",
     "status": "completed"
    },
    "tags": []
   },
   "outputs": [],
   "source": [
    "# build the dataset\n",
    "\n",
    "block_size = 3\n",
    "X, Y = [], []\n",
    "\n",
    "for w in words:\n",
    "#     print(w)\n",
    "    \n",
    "    context = [0] * block_size\n",
    "    for ch in w + '.':\n",
    "        idx = stoi[ch]\n",
    "        X.append(context)\n",
    "        Y.append(idx)\n",
    "#         print(''.join(itos[i] for i in context), '--->', itos[idx])\n",
    "        context = context[1:] + [idx]\n",
    "        \n",
    "X = torch.tensor(X)\n",
    "Y = torch.tensor(Y)"
   ]
  },
  {
   "cell_type": "code",
   "execution_count": 6,
   "id": "a82e7d1b",
   "metadata": {
    "execution": {
     "iopub.execute_input": "2024-08-12T11:29:32.075325Z",
     "iopub.status.busy": "2024-08-12T11:29:32.074925Z",
     "iopub.status.idle": "2024-08-12T11:29:32.081974Z",
     "shell.execute_reply": "2024-08-12T11:29:32.080971Z"
    },
    "papermill": {
     "duration": 0.018963,
     "end_time": "2024-08-12T11:29:32.084331",
     "exception": false,
     "start_time": "2024-08-12T11:29:32.065368",
     "status": "completed"
    },
    "tags": []
   },
   "outputs": [
    {
     "data": {
      "text/plain": [
       "(torch.Size([228146, 3]), torch.int64, torch.Size([228146]), torch.int64)"
      ]
     },
     "execution_count": 6,
     "metadata": {},
     "output_type": "execute_result"
    }
   ],
   "source": [
    "X.shape, X.dtype, Y.shape, Y.dtype"
   ]
  },
  {
   "cell_type": "code",
   "execution_count": 7,
   "id": "2db6b771",
   "metadata": {
    "execution": {
     "iopub.execute_input": "2024-08-12T11:29:32.103871Z",
     "iopub.status.busy": "2024-08-12T11:29:32.103124Z",
     "iopub.status.idle": "2024-08-12T11:29:32.747385Z",
     "shell.execute_reply": "2024-08-12T11:29:32.746101Z"
    },
    "papermill": {
     "duration": 0.657107,
     "end_time": "2024-08-12T11:29:32.750059",
     "exception": false,
     "start_time": "2024-08-12T11:29:32.092952",
     "status": "completed"
    },
    "tags": []
   },
   "outputs": [
    {
     "name": "stdout",
     "output_type": "stream",
     "text": [
      "torch.Size([182625, 3]) torch.Size([182625])\n",
      "torch.Size([22655, 3]) torch.Size([22655])\n",
      "torch.Size([22866, 3]) torch.Size([22866])\n"
     ]
    }
   ],
   "source": [
    "# build the dataset\n",
    "block_size = 3 # context length: how many characters do we take to predict the next one?\n",
    "\n",
    "def build_dataset(words):  \n",
    "  X, Y = [], []\n",
    "  for w in words:\n",
    "\n",
    "    #print(w)\n",
    "    context = [0] * block_size\n",
    "    for ch in w + '.':\n",
    "      ix = stoi[ch]\n",
    "      X.append(context)\n",
    "      Y.append(ix)\n",
    "      #print(''.join(itos[i] for i in context), '--->', itos[ix])\n",
    "      context = context[1:] + [ix] # crop and append\n",
    "\n",
    "  X = torch.tensor(X)\n",
    "  Y = torch.tensor(Y)\n",
    "  print(X.shape, Y.shape)\n",
    "  return X, Y\n",
    "\n",
    "import random\n",
    "random.seed(42)\n",
    "random.shuffle(words)\n",
    "n1 = int(0.8*len(words))\n",
    "n2 = int(0.9*len(words))\n",
    "\n",
    "Xtr, Ytr = build_dataset(words[:n1])\n",
    "Xdev, Ydev = build_dataset(words[n1:n2])\n",
    "Xte, Yte = build_dataset(words[n2:])"
   ]
  },
  {
   "cell_type": "markdown",
   "id": "e2f0d309",
   "metadata": {
    "papermill": {
     "duration": 0.008208,
     "end_time": "2024-08-12T11:29:32.767880",
     "exception": false,
     "start_time": "2024-08-12T11:29:32.759672",
     "status": "completed"
    },
    "tags": []
   },
   "source": [
    "## Build MLP"
   ]
  },
  {
   "cell_type": "code",
   "execution_count": 8,
   "id": "7062da8f",
   "metadata": {
    "execution": {
     "iopub.execute_input": "2024-08-12T11:29:32.786748Z",
     "iopub.status.busy": "2024-08-12T11:29:32.786355Z",
     "iopub.status.idle": "2024-08-12T11:29:32.802890Z",
     "shell.execute_reply": "2024-08-12T11:29:32.801780Z"
    },
    "papermill": {
     "duration": 0.028998,
     "end_time": "2024-08-12T11:29:32.805523",
     "exception": false,
     "start_time": "2024-08-12T11:29:32.776525",
     "status": "completed"
    },
    "tags": []
   },
   "outputs": [],
   "source": [
    "# Look up table\n",
    "C = torch.randn((27, 2))"
   ]
  },
  {
   "cell_type": "code",
   "execution_count": 9,
   "id": "ad0b05ff",
   "metadata": {
    "execution": {
     "iopub.execute_input": "2024-08-12T11:29:32.824412Z",
     "iopub.status.busy": "2024-08-12T11:29:32.823989Z",
     "iopub.status.idle": "2024-08-12T11:29:32.908458Z",
     "shell.execute_reply": "2024-08-12T11:29:32.907425Z"
    },
    "papermill": {
     "duration": 0.096565,
     "end_time": "2024-08-12T11:29:32.910808",
     "exception": false,
     "start_time": "2024-08-12T11:29:32.814243",
     "status": "completed"
    },
    "tags": []
   },
   "outputs": [
    {
     "data": {
      "text/plain": [
       "tensor([-1.1753,  1.7904])"
      ]
     },
     "execution_count": 9,
     "metadata": {},
     "output_type": "execute_result"
    }
   ],
   "source": [
    "C[5]"
   ]
  },
  {
   "cell_type": "code",
   "execution_count": 10,
   "id": "ab2cd41a",
   "metadata": {
    "execution": {
     "iopub.execute_input": "2024-08-12T11:29:32.929916Z",
     "iopub.status.busy": "2024-08-12T11:29:32.929491Z",
     "iopub.status.idle": "2024-08-12T11:29:32.954669Z",
     "shell.execute_reply": "2024-08-12T11:29:32.953414Z"
    },
    "papermill": {
     "duration": 0.037691,
     "end_time": "2024-08-12T11:29:32.957256",
     "exception": false,
     "start_time": "2024-08-12T11:29:32.919565",
     "status": "completed"
    },
    "tags": []
   },
   "outputs": [
    {
     "data": {
      "text/plain": [
       "torch.Size([228146, 3, 2])"
      ]
     },
     "execution_count": 10,
     "metadata": {},
     "output_type": "execute_result"
    }
   ],
   "source": [
    "# embedding vector\n",
    "emb = C[X]\n",
    "emb.shape"
   ]
  },
  {
   "cell_type": "code",
   "execution_count": 11,
   "id": "85d9d5c5",
   "metadata": {
    "execution": {
     "iopub.execute_input": "2024-08-12T11:29:32.977878Z",
     "iopub.status.busy": "2024-08-12T11:29:32.977477Z",
     "iopub.status.idle": "2024-08-12T11:29:32.983401Z",
     "shell.execute_reply": "2024-08-12T11:29:32.982312Z"
    },
    "papermill": {
     "duration": 0.018808,
     "end_time": "2024-08-12T11:29:32.985800",
     "exception": false,
     "start_time": "2024-08-12T11:29:32.966992",
     "status": "completed"
    },
    "tags": []
   },
   "outputs": [],
   "source": [
    "W1 = torch.randn((6, 100))\n",
    "b1 = torch.randn(100)"
   ]
  },
  {
   "cell_type": "code",
   "execution_count": 12,
   "id": "5f7c0a98",
   "metadata": {
    "execution": {
     "iopub.execute_input": "2024-08-12T11:29:33.006039Z",
     "iopub.status.busy": "2024-08-12T11:29:33.005614Z",
     "iopub.status.idle": "2024-08-12T11:29:33.218473Z",
     "shell.execute_reply": "2024-08-12T11:29:33.217231Z"
    },
    "papermill": {
     "duration": 0.225503,
     "end_time": "2024-08-12T11:29:33.221066",
     "exception": false,
     "start_time": "2024-08-12T11:29:32.995563",
     "status": "completed"
    },
    "tags": []
   },
   "outputs": [],
   "source": [
    "h = torch.tanh(emb.view(-1, 6) @ W1 + b1)"
   ]
  },
  {
   "cell_type": "code",
   "execution_count": 13,
   "id": "6dd32aed",
   "metadata": {
    "execution": {
     "iopub.execute_input": "2024-08-12T11:29:33.240830Z",
     "iopub.status.busy": "2024-08-12T11:29:33.239879Z",
     "iopub.status.idle": "2024-08-12T11:29:33.259316Z",
     "shell.execute_reply": "2024-08-12T11:29:33.258177Z"
    },
    "papermill": {
     "duration": 0.032202,
     "end_time": "2024-08-12T11:29:33.262137",
     "exception": false,
     "start_time": "2024-08-12T11:29:33.229935",
     "status": "completed"
    },
    "tags": []
   },
   "outputs": [
    {
     "data": {
      "text/plain": [
       "tensor([[-0.0162, -0.0661, -0.6432,  ...,  0.9906,  0.5456,  0.8956],\n",
       "        [ 0.9620, -0.9883, -0.9999,  ...,  0.7264, -0.8771,  0.7874],\n",
       "        [ 0.5819,  0.9415,  0.4849,  ..., -0.3208,  0.9308,  0.9470],\n",
       "        ...,\n",
       "        [-0.6137,  0.7784,  0.5560,  ...,  1.0000, -0.4628,  0.9528],\n",
       "        [ 0.0551, -0.4402, -0.9816,  ...,  0.9985,  0.8611,  0.9717],\n",
       "        [-0.7361, -0.4178, -0.1876,  ...,  0.9995,  0.5299,  0.9705]])"
      ]
     },
     "execution_count": 13,
     "metadata": {},
     "output_type": "execute_result"
    }
   ],
   "source": [
    "h"
   ]
  },
  {
   "cell_type": "code",
   "execution_count": 14,
   "id": "33b871b1",
   "metadata": {
    "execution": {
     "iopub.execute_input": "2024-08-12T11:29:33.281605Z",
     "iopub.status.busy": "2024-08-12T11:29:33.281221Z",
     "iopub.status.idle": "2024-08-12T11:29:33.288606Z",
     "shell.execute_reply": "2024-08-12T11:29:33.287457Z"
    },
    "papermill": {
     "duration": 0.019805,
     "end_time": "2024-08-12T11:29:33.290994",
     "exception": false,
     "start_time": "2024-08-12T11:29:33.271189",
     "status": "completed"
    },
    "tags": []
   },
   "outputs": [
    {
     "data": {
      "text/plain": [
       "torch.Size([228146, 100])"
      ]
     },
     "execution_count": 14,
     "metadata": {},
     "output_type": "execute_result"
    }
   ],
   "source": [
    "h.shape"
   ]
  },
  {
   "cell_type": "code",
   "execution_count": 15,
   "id": "0acd38c7",
   "metadata": {
    "execution": {
     "iopub.execute_input": "2024-08-12T11:29:33.311837Z",
     "iopub.status.busy": "2024-08-12T11:29:33.310884Z",
     "iopub.status.idle": "2024-08-12T11:29:33.316178Z",
     "shell.execute_reply": "2024-08-12T11:29:33.315109Z"
    },
    "papermill": {
     "duration": 0.018029,
     "end_time": "2024-08-12T11:29:33.318431",
     "exception": false,
     "start_time": "2024-08-12T11:29:33.300402",
     "status": "completed"
    },
    "tags": []
   },
   "outputs": [],
   "source": [
    "W2 = torch.randn((100, 27))\n",
    "b2 = torch.randn(27)"
   ]
  },
  {
   "cell_type": "code",
   "execution_count": 16,
   "id": "c4a78da2",
   "metadata": {
    "execution": {
     "iopub.execute_input": "2024-08-12T11:29:33.338187Z",
     "iopub.status.busy": "2024-08-12T11:29:33.337762Z",
     "iopub.status.idle": "2024-08-12T11:29:33.380644Z",
     "shell.execute_reply": "2024-08-12T11:29:33.379455Z"
    },
    "papermill": {
     "duration": 0.055961,
     "end_time": "2024-08-12T11:29:33.383500",
     "exception": false,
     "start_time": "2024-08-12T11:29:33.327539",
     "status": "completed"
    },
    "tags": []
   },
   "outputs": [],
   "source": [
    "logits = h @ W2 + b2"
   ]
  },
  {
   "cell_type": "code",
   "execution_count": 17,
   "id": "44b1fd23",
   "metadata": {
    "execution": {
     "iopub.execute_input": "2024-08-12T11:29:33.405147Z",
     "iopub.status.busy": "2024-08-12T11:29:33.404397Z",
     "iopub.status.idle": "2024-08-12T11:29:33.412884Z",
     "shell.execute_reply": "2024-08-12T11:29:33.411618Z"
    },
    "papermill": {
     "duration": 0.021868,
     "end_time": "2024-08-12T11:29:33.415498",
     "exception": false,
     "start_time": "2024-08-12T11:29:33.393630",
     "status": "completed"
    },
    "tags": []
   },
   "outputs": [
    {
     "data": {
      "text/plain": [
       "tensor([[  7.1321,  -6.4081,   7.6411,  ...,   4.8268,  -7.0511,   0.5559],\n",
       "        [  3.6265,   3.1343,   3.1569,  ...,   9.2596, -14.0238,   2.8556],\n",
       "        [  0.8635,   2.7565,   6.6701,  ...,  -6.9094,  -7.9197,   5.0198],\n",
       "        ...,\n",
       "        [ -0.7629,  -6.5107,   6.5555,  ...,  -4.6934,  -7.3374,  -4.5023],\n",
       "        [ 15.5127,  -3.9198,   0.3373,  ...,   4.6140,  -4.6666,   2.9496],\n",
       "        [ -2.0432,  -8.5266,   9.4575,  ...,   9.7190,  -6.2430,  -4.5509]])"
      ]
     },
     "execution_count": 17,
     "metadata": {},
     "output_type": "execute_result"
    }
   ],
   "source": [
    "logits"
   ]
  },
  {
   "cell_type": "code",
   "execution_count": 18,
   "id": "16f06083",
   "metadata": {
    "execution": {
     "iopub.execute_input": "2024-08-12T11:29:33.436168Z",
     "iopub.status.busy": "2024-08-12T11:29:33.435751Z",
     "iopub.status.idle": "2024-08-12T11:29:33.442795Z",
     "shell.execute_reply": "2024-08-12T11:29:33.441636Z"
    },
    "papermill": {
     "duration": 0.020393,
     "end_time": "2024-08-12T11:29:33.445250",
     "exception": false,
     "start_time": "2024-08-12T11:29:33.424857",
     "status": "completed"
    },
    "tags": []
   },
   "outputs": [
    {
     "data": {
      "text/plain": [
       "torch.Size([228146, 27])"
      ]
     },
     "execution_count": 18,
     "metadata": {},
     "output_type": "execute_result"
    }
   ],
   "source": [
    "logits.shape"
   ]
  },
  {
   "cell_type": "code",
   "execution_count": 19,
   "id": "4f626c05",
   "metadata": {
    "execution": {
     "iopub.execute_input": "2024-08-12T11:29:33.465807Z",
     "iopub.status.busy": "2024-08-12T11:29:33.465450Z",
     "iopub.status.idle": "2024-08-12T11:29:33.483142Z",
     "shell.execute_reply": "2024-08-12T11:29:33.482109Z"
    },
    "papermill": {
     "duration": 0.030801,
     "end_time": "2024-08-12T11:29:33.485801",
     "exception": false,
     "start_time": "2024-08-12T11:29:33.455000",
     "status": "completed"
    },
    "tags": []
   },
   "outputs": [],
   "source": [
    "counts = logits.exp()"
   ]
  },
  {
   "cell_type": "code",
   "execution_count": 20,
   "id": "77578f2b",
   "metadata": {
    "execution": {
     "iopub.execute_input": "2024-08-12T11:29:33.505837Z",
     "iopub.status.busy": "2024-08-12T11:29:33.505455Z",
     "iopub.status.idle": "2024-08-12T11:29:33.528420Z",
     "shell.execute_reply": "2024-08-12T11:29:33.527471Z"
    },
    "papermill": {
     "duration": 0.035928,
     "end_time": "2024-08-12T11:29:33.531041",
     "exception": false,
     "start_time": "2024-08-12T11:29:33.495113",
     "status": "completed"
    },
    "tags": []
   },
   "outputs": [],
   "source": [
    "prob = counts / counts.sum(1, keepdims=True)"
   ]
  },
  {
   "cell_type": "code",
   "execution_count": 21,
   "id": "0669c224",
   "metadata": {
    "execution": {
     "iopub.execute_input": "2024-08-12T11:29:33.551072Z",
     "iopub.status.busy": "2024-08-12T11:29:33.550676Z",
     "iopub.status.idle": "2024-08-12T11:29:33.557285Z",
     "shell.execute_reply": "2024-08-12T11:29:33.556278Z"
    },
    "papermill": {
     "duration": 0.019331,
     "end_time": "2024-08-12T11:29:33.559622",
     "exception": false,
     "start_time": "2024-08-12T11:29:33.540291",
     "status": "completed"
    },
    "tags": []
   },
   "outputs": [
    {
     "data": {
      "text/plain": [
       "torch.Size([228146, 27])"
      ]
     },
     "execution_count": 21,
     "metadata": {},
     "output_type": "execute_result"
    }
   ],
   "source": [
    "prob.shape"
   ]
  },
  {
   "cell_type": "code",
   "execution_count": 22,
   "id": "642984d9",
   "metadata": {
    "execution": {
     "iopub.execute_input": "2024-08-12T11:29:33.579894Z",
     "iopub.status.busy": "2024-08-12T11:29:33.579476Z",
     "iopub.status.idle": "2024-08-12T11:29:33.587460Z",
     "shell.execute_reply": "2024-08-12T11:29:33.586411Z"
    },
    "papermill": {
     "duration": 0.020865,
     "end_time": "2024-08-12T11:29:33.589789",
     "exception": false,
     "start_time": "2024-08-12T11:29:33.568924",
     "status": "completed"
    },
    "tags": []
   },
   "outputs": [
    {
     "data": {
      "text/plain": [
       "tensor(1.0000)"
      ]
     },
     "execution_count": 22,
     "metadata": {},
     "output_type": "execute_result"
    }
   ],
   "source": [
    "prob[0].sum()"
   ]
  },
  {
   "cell_type": "code",
   "execution_count": 23,
   "id": "aea350e2",
   "metadata": {
    "execution": {
     "iopub.execute_input": "2024-08-12T11:29:33.611174Z",
     "iopub.status.busy": "2024-08-12T11:29:33.610123Z",
     "iopub.status.idle": "2024-08-12T11:29:33.616973Z",
     "shell.execute_reply": "2024-08-12T11:29:33.615971Z"
    },
    "papermill": {
     "duration": 0.019734,
     "end_time": "2024-08-12T11:29:33.619154",
     "exception": false,
     "start_time": "2024-08-12T11:29:33.599420",
     "status": "completed"
    },
    "tags": []
   },
   "outputs": [],
   "source": [
    "g = torch.Generator().manual_seed(2147483647) # for reproducibility\n",
    "C = torch.randn((27, 10), generator=g)\n",
    "W1 = torch.randn((30, 200), generator=g)\n",
    "b1 = torch.randn(200, generator=g)\n",
    "W2 = torch.randn((200, 27), generator=g)\n",
    "b2 = torch.randn(27, generator=g)\n",
    "parameters = [C, W1, b1, W2, b2]"
   ]
  },
  {
   "cell_type": "code",
   "execution_count": 24,
   "id": "9a263ae2",
   "metadata": {
    "execution": {
     "iopub.execute_input": "2024-08-12T11:29:33.639430Z",
     "iopub.status.busy": "2024-08-12T11:29:33.639058Z",
     "iopub.status.idle": "2024-08-12T11:29:33.646067Z",
     "shell.execute_reply": "2024-08-12T11:29:33.644974Z"
    },
    "papermill": {
     "duration": 0.019837,
     "end_time": "2024-08-12T11:29:33.648338",
     "exception": false,
     "start_time": "2024-08-12T11:29:33.628501",
     "status": "completed"
    },
    "tags": []
   },
   "outputs": [
    {
     "data": {
      "text/plain": [
       "11897"
      ]
     },
     "execution_count": 24,
     "metadata": {},
     "output_type": "execute_result"
    }
   ],
   "source": [
    "sum(p.nelement() for p in parameters)"
   ]
  },
  {
   "cell_type": "code",
   "execution_count": 25,
   "id": "634d3868",
   "metadata": {
    "execution": {
     "iopub.execute_input": "2024-08-12T11:29:33.669580Z",
     "iopub.status.busy": "2024-08-12T11:29:33.669170Z",
     "iopub.status.idle": "2024-08-12T11:29:33.674158Z",
     "shell.execute_reply": "2024-08-12T11:29:33.672912Z"
    },
    "papermill": {
     "duration": 0.018246,
     "end_time": "2024-08-12T11:29:33.676429",
     "exception": false,
     "start_time": "2024-08-12T11:29:33.658183",
     "status": "completed"
    },
    "tags": []
   },
   "outputs": [],
   "source": [
    "for p in parameters:\n",
    "  p.requires_grad = True"
   ]
  },
  {
   "cell_type": "code",
   "execution_count": 26,
   "id": "d1be3457",
   "metadata": {
    "execution": {
     "iopub.execute_input": "2024-08-12T11:29:33.697746Z",
     "iopub.status.busy": "2024-08-12T11:29:33.697348Z",
     "iopub.status.idle": "2024-08-12T11:29:33.706883Z",
     "shell.execute_reply": "2024-08-12T11:29:33.705934Z"
    },
    "papermill": {
     "duration": 0.023333,
     "end_time": "2024-08-12T11:29:33.709385",
     "exception": false,
     "start_time": "2024-08-12T11:29:33.686052",
     "status": "completed"
    },
    "tags": []
   },
   "outputs": [],
   "source": [
    "lre = torch.linspace(-3, 0, 1000)\n",
    "lrs = 10**lre"
   ]
  },
  {
   "cell_type": "code",
   "execution_count": 27,
   "id": "15de1c61",
   "metadata": {
    "execution": {
     "iopub.execute_input": "2024-08-12T11:29:33.730347Z",
     "iopub.status.busy": "2024-08-12T11:29:33.729948Z",
     "iopub.status.idle": "2024-08-12T11:29:33.734891Z",
     "shell.execute_reply": "2024-08-12T11:29:33.733665Z"
    },
    "papermill": {
     "duration": 0.017916,
     "end_time": "2024-08-12T11:29:33.737078",
     "exception": false,
     "start_time": "2024-08-12T11:29:33.719162",
     "status": "completed"
    },
    "tags": []
   },
   "outputs": [],
   "source": [
    "lri = []\n",
    "lossi = []\n",
    "stepi = []"
   ]
  },
  {
   "cell_type": "code",
   "execution_count": 28,
   "id": "f8231cf0",
   "metadata": {
    "execution": {
     "iopub.execute_input": "2024-08-12T11:29:33.758768Z",
     "iopub.status.busy": "2024-08-12T11:29:33.757759Z",
     "iopub.status.idle": "2024-08-12T11:31:16.282490Z",
     "shell.execute_reply": "2024-08-12T11:31:16.281394Z"
    },
    "papermill": {
     "duration": 102.538408,
     "end_time": "2024-08-12T11:31:16.285557",
     "exception": false,
     "start_time": "2024-08-12T11:29:33.747149",
     "status": "completed"
    },
    "tags": []
   },
   "outputs": [],
   "source": [
    "for i in range(200000):\n",
    "  \n",
    "  # minibatch construct\n",
    "  ix = torch.randint(0, Xtr.shape[0], (32,))\n",
    "  \n",
    "  # forward pass\n",
    "  emb = C[Xtr[ix]] # (32, 3, 10)\n",
    "  h = torch.tanh(emb.view(-1, 30) @ W1 + b1) # (32, 200)\n",
    "  logits = h @ W2 + b2 # (32, 27)\n",
    "  loss = F.cross_entropy(logits, Ytr[ix])\n",
    "  #print(loss.item())\n",
    "  \n",
    "  # backward pass\n",
    "  for p in parameters:\n",
    "    p.grad = None\n",
    "  loss.backward()\n",
    "  \n",
    "  # update\n",
    "  #lr = lrs[i]\n",
    "  lr = 0.1 if i < 100000 else 0.01\n",
    "  for p in parameters:\n",
    "    p.data += -lr * p.grad\n",
    "\n",
    "  # track stats\n",
    "  #lri.append(lre[i])\n",
    "  stepi.append(i)\n",
    "  lossi.append(loss.log10().item())\n",
    "\n",
    "#print(loss.item())"
   ]
  },
  {
   "cell_type": "code",
   "execution_count": 29,
   "id": "25d29bb4",
   "metadata": {
    "execution": {
     "iopub.execute_input": "2024-08-12T11:31:16.306989Z",
     "iopub.status.busy": "2024-08-12T11:31:16.306609Z",
     "iopub.status.idle": "2024-08-12T11:31:16.897852Z",
     "shell.execute_reply": "2024-08-12T11:31:16.896715Z"
    },
    "papermill": {
     "duration": 0.60511,
     "end_time": "2024-08-12T11:31:16.900791",
     "exception": false,
     "start_time": "2024-08-12T11:31:16.295681",
     "status": "completed"
    },
    "tags": []
   },
   "outputs": [
    {
     "data": {
      "text/plain": [
       "[<matplotlib.lines.Line2D at 0x7bda7a5d09d0>]"
      ]
     },
     "execution_count": 29,
     "metadata": {},
     "output_type": "execute_result"
    },
    {
     "data": {
      "image/png": "[encoded data removed]",
      "text/plain": [
       "<Figure size 640x480 with 1 Axes>"
      ]
     },
     "metadata": {},
     "output_type": "display_data"
    }
   ],
   "source": [
    "plt.plot(stepi, lossi)"
   ]
  },
  {
   "cell_type": "code",
   "execution_count": 30,
   "id": "faf4e505",
   "metadata": {
    "execution": {
     "iopub.execute_input": "2024-08-12T11:31:16.923625Z",
     "iopub.status.busy": "2024-08-12T11:31:16.923255Z",
     "iopub.status.idle": "2024-08-12T11:31:17.286855Z",
     "shell.execute_reply": "2024-08-12T11:31:17.285733Z"
    },
    "papermill": {
     "duration": 0.377849,
     "end_time": "2024-08-12T11:31:17.289352",
     "exception": false,
     "start_time": "2024-08-12T11:31:16.911503",
     "status": "completed"
    },
    "tags": []
   },
   "outputs": [
    {
     "data": {
      "text/plain": [
       "tensor(2.1290, grad_fn=<NllLossBackward0>)"
      ]
     },
     "execution_count": 30,
     "metadata": {},
     "output_type": "execute_result"
    }
   ],
   "source": [
    "emb = C[Xtr] # (32, 3, 2)\n",
    "h = torch.tanh(emb.view(-1, 30) @ W1 + b1) # (32, 100)\n",
    "logits = h @ W2 + b2 # (32, 27)\n",
    "loss = F.cross_entropy(logits, Ytr)\n",
    "loss"
   ]
  },
  {
   "cell_type": "code",
   "execution_count": 31,
   "id": "36b1a23a",
   "metadata": {
    "execution": {
     "iopub.execute_input": "2024-08-12T11:31:17.311374Z",
     "iopub.status.busy": "2024-08-12T11:31:17.310935Z",
     "iopub.status.idle": "2024-08-12T11:31:17.348961Z",
     "shell.execute_reply": "2024-08-12T11:31:17.347994Z"
    },
    "papermill": {
     "duration": 0.051888,
     "end_time": "2024-08-12T11:31:17.351519",
     "exception": false,
     "start_time": "2024-08-12T11:31:17.299631",
     "status": "completed"
    },
    "tags": []
   },
   "outputs": [
    {
     "data": {
      "text/plain": [
       "tensor(2.1731, grad_fn=<NllLossBackward0>)"
      ]
     },
     "execution_count": 31,
     "metadata": {},
     "output_type": "execute_result"
    }
   ],
   "source": [
    "emb = C[Xdev] # (32, 3, 2)\n",
    "h = torch.tanh(emb.view(-1, 30) @ W1 + b1) # (32, 100)\n",
    "logits = h @ W2 + b2 # (32, 27)\n",
    "loss = F.cross_entropy(logits, Ydev)\n",
    "loss"
   ]
  },
  {
   "cell_type": "code",
   "execution_count": 32,
   "id": "88e1bccc",
   "metadata": {
    "execution": {
     "iopub.execute_input": "2024-08-12T11:31:17.373825Z",
     "iopub.status.busy": "2024-08-12T11:31:17.373044Z",
     "iopub.status.idle": "2024-08-12T11:31:17.727742Z",
     "shell.execute_reply": "2024-08-12T11:31:17.726606Z"
    },
    "papermill": {
     "duration": 0.368193,
     "end_time": "2024-08-12T11:31:17.729934",
     "exception": false,
     "start_time": "2024-08-12T11:31:17.361741",
     "status": "completed"
    },
    "tags": []
   },
   "outputs": [
    {
     "data": {
      "image/png": "[encoded data removed]",
      "text/plain": [
       "<Figure size 800x800 with 1 Axes>"
      ]
     },
     "metadata": {},
     "output_type": "display_data"
    }
   ],
   "source": [
    "# visualize dimensions 0 and 1 of the embedding matrix C for all characters\n",
    "plt.figure(figsize=(8,8))\n",
    "plt.scatter(C[:,0].data, C[:,1].data, s=200)\n",
    "for i in range(C.shape[0]):\n",
    "    plt.text(C[i,0].item(), C[i,1].item(), itos[i], ha=\"center\", va=\"center\", color='white')\n",
    "plt.grid('minor')"
   ]
  },
  {
   "cell_type": "code",
   "execution_count": 33,
   "id": "43a2b792",
   "metadata": {
    "execution": {
     "iopub.execute_input": "2024-08-12T11:31:17.752877Z",
     "iopub.status.busy": "2024-08-12T11:31:17.752483Z",
     "iopub.status.idle": "2024-08-12T11:31:17.759871Z",
     "shell.execute_reply": "2024-08-12T11:31:17.758622Z"
    },
    "papermill": {
     "duration": 0.021432,
     "end_time": "2024-08-12T11:31:17.762058",
     "exception": false,
     "start_time": "2024-08-12T11:31:17.740626",
     "status": "completed"
    },
    "tags": []
   },
   "outputs": [
    {
     "data": {
      "text/plain": [
       "torch.Size([1, 3, 10])"
      ]
     },
     "execution_count": 33,
     "metadata": {},
     "output_type": "execute_result"
    }
   ],
   "source": [
    "context = [0] * block_size\n",
    "C[torch.tensor([context])].shape"
   ]
  },
  {
   "cell_type": "code",
   "execution_count": 34,
   "id": "91e0e152",
   "metadata": {
    "execution": {
     "iopub.execute_input": "2024-08-12T11:31:17.785124Z",
     "iopub.status.busy": "2024-08-12T11:31:17.784703Z",
     "iopub.status.idle": "2024-08-12T11:31:17.825626Z",
     "shell.execute_reply": "2024-08-12T11:31:17.824367Z"
    },
    "papermill": {
     "duration": 0.055214,
     "end_time": "2024-08-12T11:31:17.828091",
     "exception": false,
     "start_time": "2024-08-12T11:31:17.772877",
     "status": "completed"
    },
    "tags": []
   },
   "outputs": [
    {
     "name": "stdout",
     "output_type": "stream",
     "text": [
      "eria.\n",
      "kayah.\n",
      "seen.\n",
      "nihahalarethrustagraeg.\n",
      "adelynneliah.\n",
      "milopaleigh.\n",
      "esmanaraelynn.\n",
      "honelin.\n",
      "shubergianaiel.\n",
      "kendreelleranthona.\n",
      "ubrence.\n",
      "ryyah.\n",
      "fael.\n",
      "yuve.\n",
      "mis.\n",
      "kyla.\n",
      "hil.\n",
      "salyansun.\n",
      "zakelle.\n",
      "ren.\n"
     ]
    }
   ],
   "source": [
    "# sample from the model\n",
    "g = torch.Generator().manual_seed(2147483647 + 10)\n",
    "\n",
    "for _ in range(20):\n",
    "    \n",
    "    out = []\n",
    "    context = [0] * block_size # initialize with all ...\n",
    "    while True:\n",
    "      emb = C[torch.tensor([context])] # (1,block_size,d)\n",
    "      h = torch.tanh(emb.view(1, -1) @ W1 + b1)\n",
    "      logits = h @ W2 + b2\n",
    "      probs = F.softmax(logits, dim=1)\n",
    "      ix = torch.multinomial(probs, num_samples=1, generator=g).item()\n",
    "      context = context[1:] + [ix]\n",
    "      out.append(ix)\n",
    "      if ix == 0:\n",
    "        break\n",
    "    \n",
    "    print(''.join(itos[i] for i in out))"
   ]
  },
  {
   "cell_type": "code",
   "execution_count": null,
   "id": "adc1aa9b",
   "metadata": {
    "papermill": {
     "duration": 0.010454,
     "end_time": "2024-08-12T11:31:17.849498",
     "exception": false,
     "start_time": "2024-08-12T11:31:17.839044",
     "status": "completed"
    },
    "tags": []
   },
   "outputs": [],
   "source": []
  }
 ],
 "metadata": {
  "kaggle": {
   "accelerator": "none",
   "dataSources": [
    {
     "datasetId": 5512674,
     "sourceId": 9130487,
     "sourceType": "datasetVersion"
    }
   ],
   "dockerImageVersionId": 30746,
   "isGpuEnabled": false,
   "isInternetEnabled": true,
   "language": "python",
   "sourceType": "notebook"
  },
  "kernelspec": {
   "display_name": "Python 3",
   "language": "python",
   "name": "python3"
  },
  "language_info": {
   "codemirror_mode": {
    "name": "ipython",
    "version": 3
   },
   "file_extension": ".py",
   "mimetype": "text/x-python",
   "name": "python",
   "nbconvert_exporter": "python",
   "pygments_lexer": "ipython3",
   "version": "3.10.13"
  },
  "papermill": {
   "default_parameters": {},
   "duration": 114.23293,
   "end_time": "2024-08-12T11:31:18.782611",
   "environment_variables": {},
   "exception": null,
   "input_path": "__notebook__.ipynb",
   "output_path": "__notebook__.ipynb",
   "parameters": {},
   "start_time": "2024-08-12T11:29:24.549681",
   "version": "2.5.0"
  }
 },
 "nbformat": 4,
 "nbformat_minor": 5
}
